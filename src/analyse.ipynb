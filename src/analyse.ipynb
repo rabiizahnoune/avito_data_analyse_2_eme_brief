{
 "cells": [
  {
   "cell_type": "code",
   "execution_count": 249,
   "metadata": {
    "ExecuteTime": {
     "end_time": "2024-11-07T10:20:03.718925Z",
     "start_time": "2024-11-07T10:20:03.494697Z"
    }
   },
   "outputs": [],
   "source": [
    "import pandas as pd\n",
    "import importlib\n",
    "import functions\n",
    "importlib.reload(functions)\n",
    "\n",
    "from functions import analyse_statistique_et_asymetire,changer_louer_vendre,changer_nom_ville,nettoyer_prix,remplacer_valuer_null,analyse_categorique,detecter_et_plot_zscore,detecter_aberrantes_par_frequence_nombre,detecter_avec_IQR"
   ]
  },
  {
   "cell_type": "code",
   "execution_count": 250,
   "metadata": {},
   "outputs": [],
   "source": [
    "\n",
    "data = pd.read_csv(r'/home/rajarabii/projects/data_analyse_avito/data/appartements_data.csv')"
   ]
  },
  {
   "cell_type": "code",
   "execution_count": 251,
   "metadata": {},
   "outputs": [
    {
     "name": "stdout",
     "output_type": "stream",
     "text": [
      "<class 'pandas.core.frame.DataFrame'>\n",
      "RangeIndex: 1063 entries, 0 to 1062\n",
      "Data columns (total 9 columns):\n",
      " #   Column         Non-Null Count  Dtype  \n",
      "---  ------         --------------  -----  \n",
      " 0   title          1062 non-null   object \n",
      " 1   price          930 non-null    object \n",
      " 2   location       1062 non-null   object \n",
      " 3   type_de_vente  386 non-null    object \n",
      " 4   salon          640 non-null    float64\n",
      " 5   chamber        339 non-null    float64\n",
      " 6   toilete        336 non-null    float64\n",
      " 7   area           693 non-null    float64\n",
      " 8   link           1063 non-null   object \n",
      "dtypes: float64(4), object(5)\n",
      "memory usage: 74.9+ KB\n"
     ]
    }
   ],
   "source": [
    "data.info()"
   ]
  },
  {
   "cell_type": "code",
   "execution_count": 252,
   "metadata": {},
   "outputs": [
    {
     "data": {
      "text/html": [
       "<div>\n",
       "<style scoped>\n",
       "    .dataframe tbody tr th:only-of-type {\n",
       "        vertical-align: middle;\n",
       "    }\n",
       "\n",
       "    .dataframe tbody tr th {\n",
       "        vertical-align: top;\n",
       "    }\n",
       "\n",
       "    .dataframe thead th {\n",
       "        text-align: right;\n",
       "    }\n",
       "</style>\n",
       "<table border=\"1\" class=\"dataframe\">\n",
       "  <thead>\n",
       "    <tr style=\"text-align: right;\">\n",
       "      <th></th>\n",
       "      <th>title</th>\n",
       "      <th>price</th>\n",
       "      <th>location</th>\n",
       "      <th>type_de_vente</th>\n",
       "      <th>salon</th>\n",
       "      <th>chamber</th>\n",
       "      <th>toilete</th>\n",
       "      <th>area</th>\n",
       "      <th>link</th>\n",
       "    </tr>\n",
       "  </thead>\n",
       "  <tbody>\n",
       "    <tr>\n",
       "      <th>0</th>\n",
       "      <td>Appartement location de vacances à Meknès</td>\n",
       "      <td>300 DH /Nuit</td>\n",
       "      <td>Meknès</td>\n",
       "      <td>NaN</td>\n",
       "      <td>NaN</td>\n",
       "      <td>NaN</td>\n",
       "      <td>NaN</td>\n",
       "      <td>NaN</td>\n",
       "      <td>https://www.avito.ma/fr/autre_secteur/location...</td>\n",
       "    </tr>\n",
       "    <tr>\n",
       "      <th>1</th>\n",
       "      <td>appartement à louer</td>\n",
       "      <td>2 400 DH</td>\n",
       "      <td>Casablanca</td>\n",
       "      <td>NaN</td>\n",
       "      <td>1.0</td>\n",
       "      <td>NaN</td>\n",
       "      <td>NaN</td>\n",
       "      <td>50.0</td>\n",
       "      <td>https://www.avito.ma/fr/al_qods/appartements/a...</td>\n",
       "    </tr>\n",
       "    <tr>\n",
       "      <th>2</th>\n",
       "      <td>Appartement beru à louer 150 m² à Temara</td>\n",
       "      <td>6 500 DH</td>\n",
       "      <td>Temara</td>\n",
       "      <td>NaN</td>\n",
       "      <td>1.0</td>\n",
       "      <td>NaN</td>\n",
       "      <td>NaN</td>\n",
       "      <td>150.0</td>\n",
       "      <td>https://www.avito.ma/fr/autre_secteur/appartem...</td>\n",
       "    </tr>\n",
       "    <tr>\n",
       "      <th>3</th>\n",
       "      <td>Appartement près a casanearshor sidi maarouf</td>\n",
       "      <td>3 000 DH</td>\n",
       "      <td>Casablanca</td>\n",
       "      <td>NaN</td>\n",
       "      <td>1.0</td>\n",
       "      <td>NaN</td>\n",
       "      <td>NaN</td>\n",
       "      <td>56.0</td>\n",
       "      <td>https://www.avito.ma/fr/sidi_maarouf/apparteme...</td>\n",
       "    </tr>\n",
       "  </tbody>\n",
       "</table>\n",
       "</div>"
      ],
      "text/plain": [
       "                                          title         price    location  \\\n",
       "0     Appartement location de vacances à Meknès  300 DH /Nuit      Meknès   \n",
       "1                           appartement à louer      2 400 DH  Casablanca   \n",
       "2      Appartement beru à louer 150 m² à Temara      6 500 DH      Temara   \n",
       "3  Appartement près a casanearshor sidi maarouf      3 000 DH  Casablanca   \n",
       "\n",
       "  type_de_vente  salon  chamber  toilete   area  \\\n",
       "0           NaN    NaN      NaN      NaN    NaN   \n",
       "1           NaN    1.0      NaN      NaN   50.0   \n",
       "2           NaN    1.0      NaN      NaN  150.0   \n",
       "3           NaN    1.0      NaN      NaN   56.0   \n",
       "\n",
       "                                                link  \n",
       "0  https://www.avito.ma/fr/autre_secteur/location...  \n",
       "1  https://www.avito.ma/fr/al_qods/appartements/a...  \n",
       "2  https://www.avito.ma/fr/autre_secteur/appartem...  \n",
       "3  https://www.avito.ma/fr/sidi_maarouf/apparteme...  "
      ]
     },
     "execution_count": 252,
     "metadata": {},
     "output_type": "execute_result"
    }
   ],
   "source": [
    "df = data.copy()\n",
    "df.head(4)"
   ]
  },
  {
   "cell_type": "code",
   "execution_count": 253,
   "metadata": {},
   "outputs": [
    {
     "data": {
      "text/html": [
       "<div>\n",
       "<style scoped>\n",
       "    .dataframe tbody tr th:only-of-type {\n",
       "        vertical-align: middle;\n",
       "    }\n",
       "\n",
       "    .dataframe tbody tr th {\n",
       "        vertical-align: top;\n",
       "    }\n",
       "\n",
       "    .dataframe thead th {\n",
       "        text-align: right;\n",
       "    }\n",
       "</style>\n",
       "<table border=\"1\" class=\"dataframe\">\n",
       "  <thead>\n",
       "    <tr style=\"text-align: right;\">\n",
       "      <th></th>\n",
       "      <th>salon</th>\n",
       "      <th>chamber</th>\n",
       "      <th>toilete</th>\n",
       "      <th>area</th>\n",
       "    </tr>\n",
       "  </thead>\n",
       "  <tbody>\n",
       "    <tr>\n",
       "      <th>count</th>\n",
       "      <td>640.000000</td>\n",
       "      <td>339.000000</td>\n",
       "      <td>336.000000</td>\n",
       "      <td>693.000000</td>\n",
       "    </tr>\n",
       "    <tr>\n",
       "      <th>mean</th>\n",
       "      <td>1.223437</td>\n",
       "      <td>2.368732</td>\n",
       "      <td>2.401786</td>\n",
       "      <td>97.308802</td>\n",
       "    </tr>\n",
       "    <tr>\n",
       "      <th>std</th>\n",
       "      <td>0.452862</td>\n",
       "      <td>0.668188</td>\n",
       "      <td>7.893840</td>\n",
       "      <td>40.543845</td>\n",
       "    </tr>\n",
       "    <tr>\n",
       "      <th>min</th>\n",
       "      <td>0.000000</td>\n",
       "      <td>1.000000</td>\n",
       "      <td>0.000000</td>\n",
       "      <td>1.000000</td>\n",
       "    </tr>\n",
       "    <tr>\n",
       "      <th>25%</th>\n",
       "      <td>1.000000</td>\n",
       "      <td>2.000000</td>\n",
       "      <td>1.000000</td>\n",
       "      <td>70.000000</td>\n",
       "    </tr>\n",
       "    <tr>\n",
       "      <th>50%</th>\n",
       "      <td>1.000000</td>\n",
       "      <td>2.000000</td>\n",
       "      <td>2.000000</td>\n",
       "      <td>90.000000</td>\n",
       "    </tr>\n",
       "    <tr>\n",
       "      <th>75%</th>\n",
       "      <td>1.000000</td>\n",
       "      <td>3.000000</td>\n",
       "      <td>2.000000</td>\n",
       "      <td>115.000000</td>\n",
       "    </tr>\n",
       "    <tr>\n",
       "      <th>max</th>\n",
       "      <td>3.000000</td>\n",
       "      <td>6.000000</td>\n",
       "      <td>100.000000</td>\n",
       "      <td>500.000000</td>\n",
       "    </tr>\n",
       "  </tbody>\n",
       "</table>\n",
       "</div>"
      ],
      "text/plain": [
       "            salon     chamber     toilete        area\n",
       "count  640.000000  339.000000  336.000000  693.000000\n",
       "mean     1.223437    2.368732    2.401786   97.308802\n",
       "std      0.452862    0.668188    7.893840   40.543845\n",
       "min      0.000000    1.000000    0.000000    1.000000\n",
       "25%      1.000000    2.000000    1.000000   70.000000\n",
       "50%      1.000000    2.000000    2.000000   90.000000\n",
       "75%      1.000000    3.000000    2.000000  115.000000\n",
       "max      3.000000    6.000000  100.000000  500.000000"
      ]
     },
     "execution_count": 253,
     "metadata": {},
     "output_type": "execute_result"
    }
   ],
   "source": [
    "df.describe()"
   ]
  },
  {
   "cell_type": "code",
   "execution_count": 254,
   "metadata": {},
   "outputs": [
    {
     "data": {
      "text/html": [
       "<div>\n",
       "<style scoped>\n",
       "    .dataframe tbody tr th:only-of-type {\n",
       "        vertical-align: middle;\n",
       "    }\n",
       "\n",
       "    .dataframe tbody tr th {\n",
       "        vertical-align: top;\n",
       "    }\n",
       "\n",
       "    .dataframe thead th {\n",
       "        text-align: right;\n",
       "    }\n",
       "</style>\n",
       "<table border=\"1\" class=\"dataframe\">\n",
       "  <thead>\n",
       "    <tr style=\"text-align: right;\">\n",
       "      <th></th>\n",
       "      <th>title</th>\n",
       "      <th>price</th>\n",
       "      <th>location</th>\n",
       "      <th>type_de_vente</th>\n",
       "      <th>link</th>\n",
       "    </tr>\n",
       "  </thead>\n",
       "  <tbody>\n",
       "    <tr>\n",
       "      <th>count</th>\n",
       "      <td>1062</td>\n",
       "      <td>930</td>\n",
       "      <td>1062</td>\n",
       "      <td>386</td>\n",
       "      <td>1063</td>\n",
       "    </tr>\n",
       "    <tr>\n",
       "      <th>unique</th>\n",
       "      <td>968</td>\n",
       "      <td>296</td>\n",
       "      <td>60</td>\n",
       "      <td>1</td>\n",
       "      <td>1057</td>\n",
       "    </tr>\n",
       "    <tr>\n",
       "      <th>top</th>\n",
       "      <td>appartement à vendre</td>\n",
       "      <td>300 DH /Nuit</td>\n",
       "      <td>Casablanca</td>\n",
       "      <td>Appartements, à vendre</td>\n",
       "      <td>https://www.avito.ma/vi/52489225.htm</td>\n",
       "    </tr>\n",
       "    <tr>\n",
       "      <th>freq</th>\n",
       "      <td>7</td>\n",
       "      <td>50</td>\n",
       "      <td>308</td>\n",
       "      <td>386</td>\n",
       "      <td>2</td>\n",
       "    </tr>\n",
       "  </tbody>\n",
       "</table>\n",
       "</div>"
      ],
      "text/plain": [
       "                       title         price    location  \\\n",
       "count                   1062           930        1062   \n",
       "unique                   968           296          60   \n",
       "top     appartement à vendre  300 DH /Nuit  Casablanca   \n",
       "freq                       7            50         308   \n",
       "\n",
       "                 type_de_vente                                  link  \n",
       "count                      386                                  1063  \n",
       "unique                       1                                  1057  \n",
       "top     Appartements, à vendre  https://www.avito.ma/vi/52489225.htm  \n",
       "freq                       386                                     2  "
      ]
     },
     "execution_count": 254,
     "metadata": {},
     "output_type": "execute_result"
    }
   ],
   "source": [
    "df.describe(include=['O'])"
   ]
  },
  {
   "cell_type": "code",
   "execution_count": 255,
   "metadata": {},
   "outputs": [],
   "source": [
    "df['new_price'] = df['price'].str.replace('DH','')\n",
    "df['new_price'] = df['new_price'].str.replace('/Nuit','')"
   ]
  },
  {
   "cell_type": "code",
   "execution_count": 256,
   "metadata": {},
   "outputs": [
    {
     "data": {
      "text/plain": [
       "array(['300  ', '2\\u202f400 ', '6\\u202f500 ', '3\\u202f000 ',\n",
       "       '701\\u202f720 ', '580\\u202f000 ', '6\\u202f800 ', '760\\u202f000 ',\n",
       "       nan, '1\\u202f560\\u202f000 ', '1\\u202f100\\u202f000 ',\n",
       "       '1\\u202f300\\u202f000 ', '1\\u202f277\\u202f500 ', '880\\u202f000 ',\n",
       "       '2\\u202f600 ', '4\\u202f500 ', '3\\u202f900 ', '562\\u202f500 ',\n",
       "       '1\\u202f238\\u202f400 ', '3\\u202f200 ', '864\\u202f000 ',\n",
       "       '860\\u202f000 ', '1\\u202f400\\u202f000 ', '10\\u202f500 ', '500  ',\n",
       "       '8\\u202f000 ', '4\\u202f200 ', '470  ', '9\\u202f500 ', '250  ',\n",
       "       '200  ', '15\\u202f500 ', '650\\u202f000 ', '315  ',\n",
       "       '1\\u202f650\\u202f000 ', '5\\u202f000 ', '11\\u202f000 ',\n",
       "       '980\\u202f000 ', '5\\u202f500 ', '370\\u202f000 ', '2\\u202f300 ',\n",
       "       '480\\u202f000 ', '300 ', '590  ', '12\\u202f000 ',\n",
       "       '1\\u202f550\\u202f000 ', '10\\u202f000 ', '199  ', '3\\u202f250 ',\n",
       "       '400\\u202f000 ', '580  ', '3\\u202f400\\u202f000 ', '850\\u202f000 ',\n",
       "       '8\\u202f500 ', '1\\u202f160\\u202f000 ', '2\\u202f800 ',\n",
       "       '3\\u202f000  ', '1\\u202f700\\u202f000 ', '4\\u202f000 ',\n",
       "       '7\\u202f200 ', '1\\u202f039\\u202f000 ', '280\\u202f000 ',\n",
       "       '3\\u202f500 ', '7\\u202f270 ', '850  ', '750\\u202f000 ',\n",
       "       '2\\u202f700 ', '900\\u202f000 ', '7\\u202f000 ', '640\\u202f000 ',\n",
       "       '7\\u202f500 ', '1\\u202f200\\u202f000 ', '350  ', '600\\u202f000 ',\n",
       "       '400  ', '1\\u202f250\\u202f000 ', '699  ', '599  ',\n",
       "       '2\\u202f160\\u202f000 ', '1\\u202f170\\u202f000 ', '890\\u202f000 ',\n",
       "       '21\\u202f600\\u202f000 ', '2\\u202f600\\u202f000 ', '3230 ',\n",
       "       '2\\u202f550 ', '2\\u202f500 ', '450\\u202f000 ', '380  ', '949  ',\n",
       "       '800  ', '840\\u202f000 ', '380\\u202f000 ', '700\\u202f000 ',\n",
       "       '3\\u202f300\\u202f000 ', '1\\u202f450\\u202f000 ', '565\\u202f000 ',\n",
       "       '9\\u202f000 ', '6\\u202f000 ', '24\\u202f000 ', '240\\u202f000 ',\n",
       "       '190\\u202f000 ', '1\\u202f350\\u202f000 ', '420\\u202f000 ',\n",
       "       '310\\u202f000 ', '680\\u202f000 ', '400 ', '15\\u202f000 ',\n",
       "       '1\\u202f400 ', '540\\u202f000 ', '12\\u202f500 ', '360  ',\n",
       "       '170\\u202f000 ', '1\\u202f000\\u202f000 ', '1\\u202f800\\u202f000 ',\n",
       "       '299  ', '1\\u202f320\\u202f000 ', '2\\u202f200\\u202f000 ',\n",
       "       '560\\u202f000 ', '300\\u202f000 ', '2\\u202f220\\u202f000 ',\n",
       "       '595\\u202f000 ', '7\\u202f400\\u202f000 ', '590\\u202f000 ',\n",
       "       '920\\u202f000 ', '350\\u202f000 ', '3\\u202f220\\u202f000 ',\n",
       "       '1\\u202f780\\u202f000 ', '620\\u202f000 ', '950\\u202f000 ',\n",
       "       '1\\u202f368\\u202f000 ', '820\\u202f000 ', '1\\u202f440\\u202f000 ',\n",
       "       '28\\u202f000\\u202f000 ', '1\\u202f044\\u202f000 ',\n",
       "       '3\\u202f900\\u202f000 ', '430\\u202f000 ', '1\\u202f600  ',\n",
       "       '945\\u202f000 ', '2\\u202f800\\u202f000 ', '2\\u202f200 ',\n",
       "       '1\\u202f600\\u202f000 ', '1\\u202f310\\u202f000 ', '3\\u202f400 ',\n",
       "       '320\\u202f000 ', '2\\u202f275\\u202f000 ', '170  ',\n",
       "       '3\\u202f800\\u202f000 ', '6\\u202f200 ', '570\\u202f000 ', '450  ',\n",
       "       '399  ', '688\\u202f000 ', '690\\u202f000 ', '1\\u202f750\\u202f000 ',\n",
       "       '720  ', '795\\u202f000 ', '967\\u202f200 ', '17\\u202f500 ',\n",
       "       '3\\u202f300 ', '800\\u202f000 ', '430  ', '3\\u202f200\\u202f000 ',\n",
       "       '540  ', '499  ', '1\\u202f240\\u202f000 ', '1\\u202f050\\u202f000 ',\n",
       "       '1\\u202f390\\u202f000 ', '630  ', '11\\u202f500 ', '592\\u202f000 ',\n",
       "       '2\\u202f000 ', '1\\u202f500\\u202f000 ', '500\\u202f000 ', '225  ',\n",
       "       '3\\u202f500\\u202f000 ', '630\\u202f000 ', '977\\u202f000 ',\n",
       "       '3\\u202f600 ', '600  ', '740\\u202f000 ', '285\\u202f000 ',\n",
       "       '2\\u202f850\\u202f000 ', '950  ', '2\\u202f650\\u202f000 ',\n",
       "       '6\\u202f300 ', '180  ', '780\\u202f000 ', '2\\u202f300  ',\n",
       "       '660\\u202f000 ', '389  ', '7\\u202f700 ', '2\\u202f400\\u202f000 ',\n",
       "       '10\\u202f350 ', '2\\u202f240\\u202f000 ', '270\\u202f000 ',\n",
       "       '390\\u202f000 ', '1\\u202f060\\u202f000 ', '570  ', '2\\u202f000  ',\n",
       "       '490\\u202f000 ', '350 ', '1\\u202f500 ', '5\\u202f800 ',\n",
       "       '550\\u202f000 ', '249  ', '2\\u202f050\\u202f000 ', '866\\u202f000 ',\n",
       "       '21\\u202f000 ', '4\\u202f400 ', '530\\u202f000 ',\n",
       "       '2\\u202f250\\u202f000 ', '3\\u202f000\\u202f000 ',\n",
       "       '1\\u202f328\\u202f000 ', '1\\u202f120\\u202f000 ', '550  ',\n",
       "       '13\\u202f000 ', '1\\u202f900\\u202f000 ', '3\\u202f800 ',\n",
       "       '25\\u202f000 ', '599 ', '5\\u202f700 ', '4\\u202f700 ',\n",
       "       '1\\u202f100  ', '5\\u202f200\\u202f000 ', '520  ',\n",
       "       '4\\u202f100\\u202f000 ', '23\\u202f500 ', '150  ',\n",
       "       '1\\u202f760\\u202f000 ', '460\\u202f000 ', '6\\u202f500\\u202f000 ',\n",
       "       '2\\u202f100\\u202f000 ', '440\\u202f000 ', '20\\u202f000 ', '700  ',\n",
       "       '23\\u202f000 ', '973\\u202f000 ', '1\\u202f080\\u202f000 ', '449  ',\n",
       "       '2660 ', '990\\u202f000 ', '560  ', '5\\u202f300 ',\n",
       "       '1\\u202f150\\u202f000 ', '265 ', '1\\u202f800 ', '17\\u202f000 ',\n",
       "       '2375 ', '1\\u202f180\\u202f000 ', '4\\u202f500\\u202f000 ',\n",
       "       '8\\u202f300 ', '3\\u202f700\\u202f000 ', '1\\u202f230\\u202f000 ',\n",
       "       '1\\u202f647\\u202f000 ', '6\\u202f000\\u202f000 ',\n",
       "       '1\\u202f660\\u202f000 ', '248  ', '1\\u202f350  ', '390  ',\n",
       "       '4\\u202f800 ', '1\\u202f480\\u202f000 ', '1\\u202f190\\u202f000 ',\n",
       "       '600 ', '1\\u202f090\\u202f000 ', '220  ', '1\\u202f360\\u202f000 ',\n",
       "       '1\\u202f500  ', '230  ', '752\\u202f400 ', '3\\u202f700 ',\n",
       "       '930\\u202f000 ', '19\\u202f000 ', '360\\u202f000 ', '720\\u202f000 ',\n",
       "       '2\\u202f900\\u202f000 ', '4\\u202f800\\u202f000 ',\n",
       "       '1\\u202f540\\u202f000 ', '18\\u202f000 ', '1\\u202f200  ',\n",
       "       '1\\u202f000  ', '7\\u202f800 ', '940\\u202f000 ', '4\\u202f300 ',\n",
       "       '16\\u202f000 ', '1\\u202f030\\u202f000 ', '665\\u202f000 ',\n",
       "       '1\\u202f130\\u202f000 ', '6\\u202f700 ', '815\\u202f000 ',\n",
       "       '2\\u202f250 ', '900  ', '500 ', '14\\u202f000 ', '4\\u202f900 ',\n",
       "       '1\\u202f270\\u202f000 ', '713\\u202f800 ', '1\\u202f850\\u202f000 '],\n",
       "      dtype=object)"
      ]
     },
     "execution_count": 256,
     "metadata": {},
     "output_type": "execute_result"
    }
   ],
   "source": [
    "df['new_price'].unique()"
   ]
  },
  {
   "cell_type": "code",
   "execution_count": 257,
   "metadata": {},
   "outputs": [],
   "source": [
    "df['new_price'] = df['new_price'].apply(nettoyer_prix)"
   ]
  },
  {
   "cell_type": "code",
   "execution_count": 258,
   "metadata": {},
   "outputs": [
    {
     "data": {
      "text/plain": [
       "np.int64(133)"
      ]
     },
     "execution_count": 258,
     "metadata": {},
     "output_type": "execute_result"
    }
   ],
   "source": [
    "df['new_price'].isna().sum()"
   ]
  },
  {
   "cell_type": "code",
   "execution_count": 259,
   "metadata": {},
   "outputs": [],
   "source": [
    "df['type_de_vente'] = df.apply(lambda row: changer_louer_vendre(row, 'new_price'), axis=1)"
   ]
  },
  {
   "cell_type": "code",
   "execution_count": 260,
   "metadata": {},
   "outputs": [
    {
     "data": {
      "text/plain": [
       "type_de_vente\n",
       "a louer     625\n",
       "a vendre    438\n",
       "Name: count, dtype: int64"
      ]
     },
     "execution_count": 260,
     "metadata": {},
     "output_type": "execute_result"
    }
   ],
   "source": [
    "df['type_de_vente'].value_counts()"
   ]
  },
  {
   "cell_type": "code",
   "execution_count": 261,
   "metadata": {},
   "outputs": [
    {
     "data": {
      "text/plain": [
       "np.int64(0)"
      ]
     },
     "execution_count": 261,
     "metadata": {},
     "output_type": "execute_result"
    }
   ],
   "source": [
    "df.type_de_vente.isna().sum()"
   ]
  },
  {
   "cell_type": "code",
   "execution_count": 262,
   "metadata": {},
   "outputs": [
    {
     "data": {
      "text/plain": [
       "Index(['title', 'price', 'location', 'type_de_vente', 'salon', 'chamber',\n",
       "       'toilete', 'area', 'link', 'new_price'],\n",
       "      dtype='object')"
      ]
     },
     "execution_count": 262,
     "metadata": {},
     "output_type": "execute_result"
    }
   ],
   "source": [
    "df.columns"
   ]
  },
  {
   "cell_type": "code",
   "execution_count": 263,
   "metadata": {},
   "outputs": [
    {
     "data": {
      "text/plain": [
       "array(['Meknès', 'Casablanca', 'Temara', 'Dcheïra El Jihadia',\n",
       "       'Mohammedia', 'Agadir', 'الدار البيضاء', 'Béni Yakhlef',\n",
       "       'El Jadida', 'Dakhla', 'Rabat', 'Marrakech', 'Tanger', 'مراكش',\n",
       "       'Kénitra', 'فاس', 'Fès', 'Bouskoura', 'Essaouira', 'Settat',\n",
       "       'Mehdia', 'Dar Bouazza', 'Martil', 'Nouaceur', 'Inzegan', 'Asilah',\n",
       "       'Had Soualem', 'Oujda', 'Saidia', 'تمارة', 'Nador', 'Benslimane',\n",
       "       'Salé', 'Sidi Bouknadel', 'Ait Melloul', 'Tamesna', 'Taza',\n",
       "       'القنيطرة', 'Tétouan', 'Tamaris', 'Selouane', 'Bouznika', 'أكادير',\n",
       "       'El Mansouria', 'Skhirat', 'Béni Mellal', 'Cabo Negro', 'Ifrane',\n",
       "       'Errahma', 'Taghazout', 'Safi', 'Al Hoceima', 'Errachidia',\n",
       "       'Zenata', 'Ben Guerir', 'Sidi Rahal', 'Mediouna', nan,\n",
       "       'Chefchaouen', 'Merzouga', 'Mdiq'], dtype=object)"
      ]
     },
     "execution_count": 263,
     "metadata": {},
     "output_type": "execute_result"
    }
   ],
   "source": [
    "df['location'].unique()"
   ]
  },
  {
   "cell_type": "code",
   "execution_count": 264,
   "metadata": {},
   "outputs": [],
   "source": [
    "mapping_villes = {\n",
    "    \"الدار البيضاء\": \"Casablanca\",\n",
    "    \"مراكش\": \"Marrakech\",\n",
    "    \"فاس\": \"Fès\",\n",
    "    \"تمارة\": \"Temara\",\n",
    "    \"أكادير\": \"Agadir\",\n",
    "    \"القنيطرة\": \"Kénitra\",\n",
    "    \n",
    "}"
   ]
  },
  {
   "cell_type": "code",
   "execution_count": 265,
   "metadata": {},
   "outputs": [],
   "source": [
    "df['location'] = df['location'].apply(lambda x:changer_nom_ville(x,mapping_villes))"
   ]
  },
  {
   "cell_type": "code",
   "execution_count": 266,
   "metadata": {},
   "outputs": [
    {
     "data": {
      "text/plain": [
       "array(['Meknès', 'Casablanca', 'Temara', 'Dcheïra El Jihadia',\n",
       "       'Mohammedia', 'Agadir', 'Béni Yakhlef', 'El Jadida', 'Dakhla',\n",
       "       'Rabat', 'Marrakech', 'Tanger', 'Kénitra', 'Fès', 'Bouskoura',\n",
       "       'Essaouira', 'Settat', 'Mehdia', 'Dar Bouazza', 'Martil',\n",
       "       'Nouaceur', 'Inzegan', 'Asilah', 'Had Soualem', 'Oujda', 'Saidia',\n",
       "       'Nador', 'Benslimane', 'Salé', 'Sidi Bouknadel', 'Ait Melloul',\n",
       "       'Tamesna', 'Taza', 'Tétouan', 'Tamaris', 'Selouane', 'Bouznika',\n",
       "       'El Mansouria', 'Skhirat', 'Béni Mellal', 'Cabo Negro', 'Ifrane',\n",
       "       'Errahma', 'Taghazout', 'Safi', 'Al Hoceima', 'Errachidia',\n",
       "       'Zenata', 'Ben Guerir', 'Sidi Rahal', 'Mediouna', nan,\n",
       "       'Chefchaouen', 'Merzouga', 'Mdiq'], dtype=object)"
      ]
     },
     "execution_count": 266,
     "metadata": {},
     "output_type": "execute_result"
    }
   ],
   "source": [
    "df['location'].unique()"
   ]
  },
  {
   "cell_type": "code",
   "execution_count": 267,
   "metadata": {},
   "outputs": [
    {
     "data": {
      "text/plain": [
       "np.int64(1)"
      ]
     },
     "execution_count": 267,
     "metadata": {},
     "output_type": "execute_result"
    }
   ],
   "source": [
    "#nombre total des villes \n",
    "df['location'].isna().sum()"
   ]
  },
  {
   "cell_type": "code",
   "execution_count": 268,
   "metadata": {},
   "outputs": [
    {
     "data": {
      "text/html": [
       "<div>\n",
       "<style scoped>\n",
       "    .dataframe tbody tr th:only-of-type {\n",
       "        vertical-align: middle;\n",
       "    }\n",
       "\n",
       "    .dataframe tbody tr th {\n",
       "        vertical-align: top;\n",
       "    }\n",
       "\n",
       "    .dataframe thead th {\n",
       "        text-align: right;\n",
       "    }\n",
       "</style>\n",
       "<table border=\"1\" class=\"dataframe\">\n",
       "  <thead>\n",
       "    <tr style=\"text-align: right;\">\n",
       "      <th></th>\n",
       "      <th>count</th>\n",
       "      <th>mean</th>\n",
       "      <th>std</th>\n",
       "      <th>min</th>\n",
       "      <th>25%</th>\n",
       "      <th>50%</th>\n",
       "      <th>75%</th>\n",
       "      <th>max</th>\n",
       "    </tr>\n",
       "  </thead>\n",
       "  <tbody>\n",
       "    <tr>\n",
       "      <th>salon</th>\n",
       "      <td>640.0</td>\n",
       "      <td>1.223437</td>\n",
       "      <td>4.528616e-01</td>\n",
       "      <td>0.0</td>\n",
       "      <td>1.0</td>\n",
       "      <td>1.0</td>\n",
       "      <td>1.0</td>\n",
       "      <td>3.0</td>\n",
       "    </tr>\n",
       "    <tr>\n",
       "      <th>chamber</th>\n",
       "      <td>339.0</td>\n",
       "      <td>2.368732</td>\n",
       "      <td>6.681879e-01</td>\n",
       "      <td>1.0</td>\n",
       "      <td>2.0</td>\n",
       "      <td>2.0</td>\n",
       "      <td>3.0</td>\n",
       "      <td>6.0</td>\n",
       "    </tr>\n",
       "    <tr>\n",
       "      <th>toilete</th>\n",
       "      <td>336.0</td>\n",
       "      <td>2.401786</td>\n",
       "      <td>7.893840e+00</td>\n",
       "      <td>0.0</td>\n",
       "      <td>1.0</td>\n",
       "      <td>2.0</td>\n",
       "      <td>2.0</td>\n",
       "      <td>100.0</td>\n",
       "    </tr>\n",
       "    <tr>\n",
       "      <th>area</th>\n",
       "      <td>693.0</td>\n",
       "      <td>97.308802</td>\n",
       "      <td>4.054384e+01</td>\n",
       "      <td>1.0</td>\n",
       "      <td>70.0</td>\n",
       "      <td>90.0</td>\n",
       "      <td>115.0</td>\n",
       "      <td>500.0</td>\n",
       "    </tr>\n",
       "    <tr>\n",
       "      <th>new_price</th>\n",
       "      <td>930.0</td>\n",
       "      <td>490812.322581</td>\n",
       "      <td>1.399311e+06</td>\n",
       "      <td>150.0</td>\n",
       "      <td>500.0</td>\n",
       "      <td>7000.0</td>\n",
       "      <td>700000.0</td>\n",
       "      <td>28000000.0</td>\n",
       "    </tr>\n",
       "  </tbody>\n",
       "</table>\n",
       "</div>"
      ],
      "text/plain": [
       "           count           mean           std    min    25%     50%       75%  \\\n",
       "salon      640.0       1.223437  4.528616e-01    0.0    1.0     1.0       1.0   \n",
       "chamber    339.0       2.368732  6.681879e-01    1.0    2.0     2.0       3.0   \n",
       "toilete    336.0       2.401786  7.893840e+00    0.0    1.0     2.0       2.0   \n",
       "area       693.0      97.308802  4.054384e+01    1.0   70.0    90.0     115.0   \n",
       "new_price  930.0  490812.322581  1.399311e+06  150.0  500.0  7000.0  700000.0   \n",
       "\n",
       "                  max  \n",
       "salon             3.0  \n",
       "chamber           6.0  \n",
       "toilete         100.0  \n",
       "area            500.0  \n",
       "new_price  28000000.0  "
      ]
     },
     "execution_count": 268,
     "metadata": {},
     "output_type": "execute_result"
    }
   ],
   "source": [
    "df.describe().T"
   ]
  },
  {
   "cell_type": "markdown",
   "metadata": {},
   "source": [
    "etude de la distrubution de nombre de salon,chambre,toilete des appartements"
   ]
  },
  {
   "cell_type": "code",
   "execution_count": 269,
   "metadata": {},
   "outputs": [
    {
     "name": "stdout",
     "output_type": "stream",
     "text": [
      "Distribution des valeurs pour la colonne chamber :\n",
      "chamber\n",
      "2.0    190\n",
      "3.0    118\n",
      "1.0     19\n",
      "4.0     11\n",
      "6.0      1\n",
      "Name: count, dtype: int64\n"
     ]
    },
    {
     "name": "stderr",
     "output_type": "stream",
     "text": [
      "/home/rajarabii/projects/data_analyse_avito/src/functions.py:106: FutureWarning: \n",
      "\n",
      "Passing `palette` without assigning `hue` is deprecated and will be removed in v0.14.0. Assign the `x` variable to `hue` and set `legend=False` for the same effect.\n",
      "\n",
      "  sns.countplot(data=dataframe, x=colone, palette='Set2')\n"
     ]
    },
    {
     "data": {
      "image/png": "[encoded data removed]",
      "text/plain": [
       "<Figure size 1000x600 with 1 Axes>"
      ]
     },
     "metadata": {},
     "output_type": "display_data"
    }
   ],
   "source": [
    "analyse_categorique(df,'chamber')"
   ]
  },
  {
   "cell_type": "code",
   "execution_count": 270,
   "metadata": {},
   "outputs": [
    {
     "name": "stdout",
     "output_type": "stream",
     "text": [
      "Distribution des valeurs pour la colonne salon :\n",
      "salon\n",
      "1.0    498\n",
      "2.0    132\n",
      "3.0      7\n",
      "0.0      3\n",
      "Name: count, dtype: int64\n"
     ]
    },
    {
     "name": "stderr",
     "output_type": "stream",
     "text": [
      "/home/rajarabii/projects/data_analyse_avito/src/functions.py:106: FutureWarning: \n",
      "\n",
      "Passing `palette` without assigning `hue` is deprecated and will be removed in v0.14.0. Assign the `x` variable to `hue` and set `legend=False` for the same effect.\n",
      "\n",
      "  sns.countplot(data=dataframe, x=colone, palette='Set2')\n"
     ]
    },
    {
     "data": {
      "image/png": "[encoded data removed]",
      "text/plain": [
       "<Figure size 1000x600 with 1 Axes>"
      ]
     },
     "metadata": {},
     "output_type": "display_data"
    }
   ],
   "source": [
    "analyse_categorique(df,'salon')"
   ]
  },
  {
   "cell_type": "code",
   "execution_count": 271,
   "metadata": {},
   "outputs": [
    {
     "name": "stdout",
     "output_type": "stream",
     "text": [
      "Distribution des valeurs pour la colonne toilete :\n",
      "toilete\n",
      "2.0      187\n",
      "1.0      125\n",
      "3.0       18\n",
      "0.0        2\n",
      "100.0      1\n",
      "91.0       1\n",
      "4.0        1\n",
      "59.0       1\n",
      "Name: count, dtype: int64\n"
     ]
    },
    {
     "name": "stderr",
     "output_type": "stream",
     "text": [
      "/home/rajarabii/projects/data_analyse_avito/src/functions.py:106: FutureWarning: \n",
      "\n",
      "Passing `palette` without assigning `hue` is deprecated and will be removed in v0.14.0. Assign the `x` variable to `hue` and set `legend=False` for the same effect.\n",
      "\n",
      "  sns.countplot(data=dataframe, x=colone, palette='Set2')\n"
     ]
    },
    {
     "data": {
      "image/png": "[encoded data removed]",
      "text/plain": [
       "<Figure size 1000x600 with 1 Axes>"
      ]
     },
     "metadata": {},
     "output_type": "display_data"
    }
   ],
   "source": [
    "analyse_categorique(df,'toilete')"
   ]
  },
  {
   "cell_type": "markdown",
   "metadata": {},
   "source": [
    "etude de la distrubution de prix et surface des appartements a vendre"
   ]
  },
  {
   "cell_type": "code",
   "execution_count": 272,
   "metadata": {},
   "outputs": [
    {
     "name": "stdout",
     "output_type": "stream",
     "text": [
      "Statistiques descriptives pour la colonne area :\n",
      "Moyenne : 97.30880230880231\n",
      "Médiane : 90.0\n",
      "Écart-type : 40.543844751859496\n",
      "Coefficient d'asymétrie (skewness) : 2.5962838988965085\n",
      "La distribution est asymétrique vers la droite (asymétrie positive)\n"
     ]
    },
    {
     "data": {
      "image/png": "[encoded data removed]",
      "text/plain": [
       "<Figure size 1000x600 with 1 Axes>"
      ]
     },
     "metadata": {},
     "output_type": "display_data"
    }
   ],
   "source": [
    "analyse_statistique_et_asymetire(df,'area')"
   ]
  },
  {
   "cell_type": "code",
   "execution_count": 273,
   "metadata": {},
   "outputs": [
    {
     "name": "stdout",
     "output_type": "stream",
     "text": [
      "Statistiques descriptives pour la colonne new_price :\n",
      "Moyenne : 1339826.9026548672\n",
      "Médiane : 967200.0\n",
      "Écart-type : 2060124.9775677118\n",
      "Coefficient d'asymétrie (skewness) : 9.508464065822032\n",
      "La distribution est asymétrique vers la droite (asymétrie positive)\n"
     ]
    },
    {
     "data": {
      "image/png": "[encoded data removed]",
      "text/plain": [
       "<Figure size 1000x600 with 1 Axes>"
      ]
     },
     "metadata": {},
     "output_type": "display_data"
    }
   ],
   "source": [
    "analyse_statistique_et_asymetire(df[df['type_de_vente']=='a vendre'],'new_price')"
   ]
  },
  {
   "cell_type": "markdown",
   "metadata": {},
   "source": [
    "etude de la distrubution de prix et surface des appartements a louer"
   ]
  },
  {
   "cell_type": "code",
   "execution_count": 274,
   "metadata": {},
   "outputs": [
    {
     "name": "stdout",
     "output_type": "stream",
     "text": [
      "Statistiques descriptives pour la colonne new_price :\n",
      "Moyenne : 3814.1116751269037\n",
      "Médiane : 2300.0\n",
      "Écart-type : 4548.778804386551\n",
      "Coefficient d'asymétrie (skewness) : 1.6668308341871758\n",
      "La distribution est asymétrique vers la droite (asymétrie positive)\n"
     ]
    },
    {
     "data": {
      "image/png": "[encoded data removed]",
      "text/plain": [
       "<Figure size 1000x600 with 1 Axes>"
      ]
     },
     "metadata": {},
     "output_type": "display_data"
    }
   ],
   "source": [
    "analyse_statistique_et_asymetire(df[df['type_de_vente']=='a louer'],'new_price')"
   ]
  },
  {
   "cell_type": "code",
   "execution_count": 275,
   "metadata": {},
   "outputs": [],
   "source": [
    "df_knn = df.copy()"
   ]
  },
  {
   "cell_type": "markdown",
   "metadata": {},
   "source": [
    "Gestion des Valeurs Manquantes"
   ]
  },
  {
   "cell_type": "code",
   "execution_count": 276,
   "metadata": {},
   "outputs": [
    {
     "data": {
      "text/plain": [
       "title             0.094073\n",
       "price            12.511759\n",
       "location          0.094073\n",
       "type_de_vente     0.000000\n",
       "salon            39.793039\n",
       "chamber          68.109125\n",
       "toilete          68.391345\n",
       "area             34.807150\n",
       "link              0.000000\n",
       "new_price        12.511759\n",
       "dtype: float64"
      ]
     },
     "execution_count": 276,
     "metadata": {},
     "output_type": "execute_result"
    }
   ],
   "source": [
    "pourcentage_manquantes = df.isnull().mean() * 100\n",
    "pourcentage_manquantes"
   ]
  },
  {
   "cell_type": "markdown",
   "metadata": {},
   "source": [
    "gestionner les donnes de type numuriques"
   ]
  },
  {
   "cell_type": "code",
   "execution_count": 277,
   "metadata": {},
   "outputs": [],
   "source": [
    "df_louer = df[df['type_de_vente']=='a louer']\n",
    "df_vendre = df[df['type_de_vente']=='a vendre']\n"
   ]
  },
  {
   "cell_type": "code",
   "execution_count": 278,
   "metadata": {},
   "outputs": [
    {
     "data": {
      "text/plain": [
       "np.int64(34)"
      ]
     },
     "execution_count": 278,
     "metadata": {},
     "output_type": "execute_result"
    }
   ],
   "source": [
    "#remplacer les valeurs null dans les nombres des salons et chambres et toiletes\n",
    "df_louer.new_price.isna().sum()"
   ]
  },
  {
   "cell_type": "code",
   "execution_count": 279,
   "metadata": {},
   "outputs": [
    {
     "name": "stderr",
     "output_type": "stream",
     "text": [
      "/home/rajarabii/projects/data_analyse_avito/src/functions.py:89: SettingWithCopyWarning: \n",
      "A value is trying to be set on a copy of a slice from a DataFrame.\n",
      "Try using .loc[row_indexer,col_indexer] = value instead\n",
      "\n",
      "See the caveats in the documentation: https://pandas.pydata.org/pandas-docs/stable/user_guide/indexing.html#returning-a-view-versus-a-copy\n",
      "  df[colone] = df[colone].apply(lambda x :replace(pd.Series.median,x,df,colone))\n"
     ]
    },
    {
     "data": {
      "text/plain": [
       "np.int64(0)"
      ]
     },
     "execution_count": 279,
     "metadata": {},
     "output_type": "execute_result"
    }
   ],
   "source": [
    "remplacer_valuer_null(df_louer,'new_price')\n",
    "df_louer.new_price.isna().sum()"
   ]
  },
  {
   "cell_type": "code",
   "execution_count": 280,
   "metadata": {},
   "outputs": [
    {
     "data": {
      "text/plain": [
       "np.int64(370)"
      ]
     },
     "execution_count": 280,
     "metadata": {},
     "output_type": "execute_result"
    }
   ],
   "source": [
    "df.area.isna().sum()"
   ]
  },
  {
   "cell_type": "code",
   "execution_count": 281,
   "metadata": {},
   "outputs": [
    {
     "data": {
      "text/plain": [
       "np.int64(0)"
      ]
     },
     "execution_count": 281,
     "metadata": {},
     "output_type": "execute_result"
    }
   ],
   "source": [
    "remplacer_valuer_null(df,'area')\n",
    "df.area.isna().sum()\n"
   ]
  },
  {
   "cell_type": "code",
   "execution_count": 282,
   "metadata": {},
   "outputs": [
    {
     "data": {
      "text/plain": [
       "np.int64(99)"
      ]
     },
     "execution_count": 282,
     "metadata": {},
     "output_type": "execute_result"
    }
   ],
   "source": [
    "df_vendre.new_price.isna().sum()"
   ]
  },
  {
   "cell_type": "code",
   "execution_count": 283,
   "metadata": {},
   "outputs": [
    {
     "name": "stderr",
     "output_type": "stream",
     "text": [
      "/home/rajarabii/projects/data_analyse_avito/src/functions.py:89: SettingWithCopyWarning: \n",
      "A value is trying to be set on a copy of a slice from a DataFrame.\n",
      "Try using .loc[row_indexer,col_indexer] = value instead\n",
      "\n",
      "See the caveats in the documentation: https://pandas.pydata.org/pandas-docs/stable/user_guide/indexing.html#returning-a-view-versus-a-copy\n",
      "  df[colone] = df[colone].apply(lambda x :replace(pd.Series.median,x,df,colone))\n"
     ]
    },
    {
     "data": {
      "text/plain": [
       "np.int64(0)"
      ]
     },
     "execution_count": 283,
     "metadata": {},
     "output_type": "execute_result"
    }
   ],
   "source": [
    "remplacer_valuer_null(df_vendre,'new_price')\n",
    "df_vendre.new_price.isna().sum()"
   ]
  },
  {
   "cell_type": "code",
   "execution_count": 284,
   "metadata": {},
   "outputs": [
    {
     "data": {
      "text/plain": [
       "np.int64(0)"
      ]
     },
     "execution_count": 284,
     "metadata": {},
     "output_type": "execute_result"
    }
   ],
   "source": [
    "remplacer_valuer_null(df,'salon')\n",
    "df.salon.isna().sum()"
   ]
  },
  {
   "cell_type": "code",
   "execution_count": 285,
   "metadata": {},
   "outputs": [
    {
     "data": {
      "text/plain": [
       "np.int64(0)"
      ]
     },
     "execution_count": 285,
     "metadata": {},
     "output_type": "execute_result"
    }
   ],
   "source": [
    "remplacer_valuer_null(df,'chamber')\n",
    "df.chamber.isna().sum()"
   ]
  },
  {
   "cell_type": "code",
   "execution_count": 286,
   "metadata": {},
   "outputs": [
    {
     "data": {
      "text/plain": [
       "np.int64(0)"
      ]
     },
     "execution_count": 286,
     "metadata": {},
     "output_type": "execute_result"
    }
   ],
   "source": [
    "remplacer_valuer_null(df,'toilete')\n",
    "df.toilete.isna().sum()"
   ]
  },
  {
   "cell_type": "code",
   "execution_count": 287,
   "metadata": {},
   "outputs": [
    {
     "data": {
      "text/html": [
       "<div>\n",
       "<style scoped>\n",
       "    .dataframe tbody tr th:only-of-type {\n",
       "        vertical-align: middle;\n",
       "    }\n",
       "\n",
       "    .dataframe tbody tr th {\n",
       "        vertical-align: top;\n",
       "    }\n",
       "\n",
       "    .dataframe thead th {\n",
       "        text-align: right;\n",
       "    }\n",
       "</style>\n",
       "<table border=\"1\" class=\"dataframe\">\n",
       "  <thead>\n",
       "    <tr style=\"text-align: right;\">\n",
       "      <th></th>\n",
       "      <th>title</th>\n",
       "      <th>price</th>\n",
       "      <th>location</th>\n",
       "      <th>type_de_vente</th>\n",
       "      <th>salon</th>\n",
       "      <th>chamber</th>\n",
       "      <th>toilete</th>\n",
       "      <th>area</th>\n",
       "      <th>link</th>\n",
       "      <th>new_price</th>\n",
       "    </tr>\n",
       "  </thead>\n",
       "  <tbody>\n",
       "    <tr>\n",
       "      <th>0</th>\n",
       "      <td>Appartement location de vacances à Meknès</td>\n",
       "      <td>300 DH /Nuit</td>\n",
       "      <td>Meknès</td>\n",
       "      <td>a louer</td>\n",
       "      <td>1.0</td>\n",
       "      <td>2.0</td>\n",
       "      <td>2.0</td>\n",
       "      <td>90.0</td>\n",
       "      <td>https://www.avito.ma/fr/autre_secteur/location...</td>\n",
       "      <td>300.0</td>\n",
       "    </tr>\n",
       "    <tr>\n",
       "      <th>1</th>\n",
       "      <td>appartement à louer</td>\n",
       "      <td>2 400 DH</td>\n",
       "      <td>Casablanca</td>\n",
       "      <td>a louer</td>\n",
       "      <td>1.0</td>\n",
       "      <td>2.0</td>\n",
       "      <td>2.0</td>\n",
       "      <td>50.0</td>\n",
       "      <td>https://www.avito.ma/fr/al_qods/appartements/a...</td>\n",
       "      <td>2400.0</td>\n",
       "    </tr>\n",
       "    <tr>\n",
       "      <th>2</th>\n",
       "      <td>Appartement beru à louer 150 m² à Temara</td>\n",
       "      <td>6 500 DH</td>\n",
       "      <td>Temara</td>\n",
       "      <td>a louer</td>\n",
       "      <td>1.0</td>\n",
       "      <td>2.0</td>\n",
       "      <td>2.0</td>\n",
       "      <td>150.0</td>\n",
       "      <td>https://www.avito.ma/fr/autre_secteur/appartem...</td>\n",
       "      <td>6500.0</td>\n",
       "    </tr>\n",
       "    <tr>\n",
       "      <th>3</th>\n",
       "      <td>Appartement près a casanearshor sidi maarouf</td>\n",
       "      <td>3 000 DH</td>\n",
       "      <td>Casablanca</td>\n",
       "      <td>a louer</td>\n",
       "      <td>1.0</td>\n",
       "      <td>2.0</td>\n",
       "      <td>2.0</td>\n",
       "      <td>56.0</td>\n",
       "      <td>https://www.avito.ma/fr/sidi_maarouf/apparteme...</td>\n",
       "      <td>3000.0</td>\n",
       "    </tr>\n",
       "    <tr>\n",
       "      <th>4</th>\n",
       "      <td>Appartement 84 m²Al Baraka à Dcheïra El Jihadia</td>\n",
       "      <td>701 720 DH</td>\n",
       "      <td>Dcheïra El Jihadia</td>\n",
       "      <td>a vendre</td>\n",
       "      <td>1.0</td>\n",
       "      <td>3.0</td>\n",
       "      <td>2.0</td>\n",
       "      <td>84.0</td>\n",
       "      <td>https://www.avito.ma/fr/dche%C3%AFra_el_jihadi...</td>\n",
       "      <td>701720.0</td>\n",
       "    </tr>\n",
       "  </tbody>\n",
       "</table>\n",
       "</div>"
      ],
      "text/plain": [
       "                                             title         price  \\\n",
       "0        Appartement location de vacances à Meknès  300 DH /Nuit   \n",
       "1                              appartement à louer      2 400 DH   \n",
       "2         Appartement beru à louer 150 m² à Temara      6 500 DH   \n",
       "3     Appartement près a casanearshor sidi maarouf      3 000 DH   \n",
       "4  Appartement 84 m²Al Baraka à Dcheïra El Jihadia    701 720 DH   \n",
       "\n",
       "             location type_de_vente  salon  chamber  toilete   area  \\\n",
       "0              Meknès       a louer    1.0      2.0      2.0   90.0   \n",
       "1          Casablanca       a louer    1.0      2.0      2.0   50.0   \n",
       "2              Temara       a louer    1.0      2.0      2.0  150.0   \n",
       "3          Casablanca       a louer    1.0      2.0      2.0   56.0   \n",
       "4  Dcheïra El Jihadia      a vendre    1.0      3.0      2.0   84.0   \n",
       "\n",
       "                                                link  new_price  \n",
       "0  https://www.avito.ma/fr/autre_secteur/location...      300.0  \n",
       "1  https://www.avito.ma/fr/al_qods/appartements/a...     2400.0  \n",
       "2  https://www.avito.ma/fr/autre_secteur/appartem...     6500.0  \n",
       "3  https://www.avito.ma/fr/sidi_maarouf/apparteme...     3000.0  \n",
       "4  https://www.avito.ma/fr/dche%C3%AFra_el_jihadi...   701720.0  "
      ]
     },
     "execution_count": 287,
     "metadata": {},
     "output_type": "execute_result"
    }
   ],
   "source": [
    "df.head()"
   ]
  },
  {
   "cell_type": "code",
   "execution_count": 288,
   "metadata": {},
   "outputs": [
    {
     "data": {
      "text/html": [
       "<div>\n",
       "<style scoped>\n",
       "    .dataframe tbody tr th:only-of-type {\n",
       "        vertical-align: middle;\n",
       "    }\n",
       "\n",
       "    .dataframe tbody tr th {\n",
       "        vertical-align: top;\n",
       "    }\n",
       "\n",
       "    .dataframe thead th {\n",
       "        text-align: right;\n",
       "    }\n",
       "</style>\n",
       "<table border=\"1\" class=\"dataframe\">\n",
       "  <thead>\n",
       "    <tr style=\"text-align: right;\">\n",
       "      <th></th>\n",
       "      <th>title</th>\n",
       "      <th>price</th>\n",
       "      <th>location</th>\n",
       "      <th>type_de_vente</th>\n",
       "      <th>salon</th>\n",
       "      <th>chamber</th>\n",
       "      <th>toilete</th>\n",
       "      <th>area</th>\n",
       "      <th>link</th>\n",
       "      <th>new_price</th>\n",
       "    </tr>\n",
       "  </thead>\n",
       "  <tbody>\n",
       "    <tr>\n",
       "      <th>0</th>\n",
       "      <td>Appartement location de vacances à Meknès</td>\n",
       "      <td>300 DH /Nuit</td>\n",
       "      <td>Meknès</td>\n",
       "      <td>a louer</td>\n",
       "      <td>NaN</td>\n",
       "      <td>NaN</td>\n",
       "      <td>NaN</td>\n",
       "      <td>NaN</td>\n",
       "      <td>https://www.avito.ma/fr/autre_secteur/location...</td>\n",
       "      <td>300.0</td>\n",
       "    </tr>\n",
       "    <tr>\n",
       "      <th>1</th>\n",
       "      <td>appartement à louer</td>\n",
       "      <td>2 400 DH</td>\n",
       "      <td>Casablanca</td>\n",
       "      <td>a louer</td>\n",
       "      <td>1.0</td>\n",
       "      <td>NaN</td>\n",
       "      <td>NaN</td>\n",
       "      <td>50.0</td>\n",
       "      <td>https://www.avito.ma/fr/al_qods/appartements/a...</td>\n",
       "      <td>2400.0</td>\n",
       "    </tr>\n",
       "    <tr>\n",
       "      <th>2</th>\n",
       "      <td>Appartement beru à louer 150 m² à Temara</td>\n",
       "      <td>6 500 DH</td>\n",
       "      <td>Temara</td>\n",
       "      <td>a louer</td>\n",
       "      <td>1.0</td>\n",
       "      <td>NaN</td>\n",
       "      <td>NaN</td>\n",
       "      <td>150.0</td>\n",
       "      <td>https://www.avito.ma/fr/autre_secteur/appartem...</td>\n",
       "      <td>6500.0</td>\n",
       "    </tr>\n",
       "    <tr>\n",
       "      <th>3</th>\n",
       "      <td>Appartement près a casanearshor sidi maarouf</td>\n",
       "      <td>3 000 DH</td>\n",
       "      <td>Casablanca</td>\n",
       "      <td>a louer</td>\n",
       "      <td>1.0</td>\n",
       "      <td>NaN</td>\n",
       "      <td>NaN</td>\n",
       "      <td>56.0</td>\n",
       "      <td>https://www.avito.ma/fr/sidi_maarouf/apparteme...</td>\n",
       "      <td>3000.0</td>\n",
       "    </tr>\n",
       "    <tr>\n",
       "      <th>6</th>\n",
       "      <td>Appartement 3 chambres vide à louer</td>\n",
       "      <td>6 800 DH</td>\n",
       "      <td>Mohammedia</td>\n",
       "      <td>a louer</td>\n",
       "      <td>1.0</td>\n",
       "      <td>NaN</td>\n",
       "      <td>NaN</td>\n",
       "      <td>95.0</td>\n",
       "      <td>https://www.avito.ma/fr/mimosas/appartements/A...</td>\n",
       "      <td>6800.0</td>\n",
       "    </tr>\n",
       "  </tbody>\n",
       "</table>\n",
       "</div>"
      ],
      "text/plain": [
       "                                          title         price    location  \\\n",
       "0     Appartement location de vacances à Meknès  300 DH /Nuit      Meknès   \n",
       "1                           appartement à louer      2 400 DH  Casablanca   \n",
       "2      Appartement beru à louer 150 m² à Temara      6 500 DH      Temara   \n",
       "3  Appartement près a casanearshor sidi maarouf      3 000 DH  Casablanca   \n",
       "6           Appartement 3 chambres vide à louer      6 800 DH  Mohammedia   \n",
       "\n",
       "  type_de_vente  salon  chamber  toilete   area  \\\n",
       "0       a louer    NaN      NaN      NaN    NaN   \n",
       "1       a louer    1.0      NaN      NaN   50.0   \n",
       "2       a louer    1.0      NaN      NaN  150.0   \n",
       "3       a louer    1.0      NaN      NaN   56.0   \n",
       "6       a louer    1.0      NaN      NaN   95.0   \n",
       "\n",
       "                                                link  new_price  \n",
       "0  https://www.avito.ma/fr/autre_secteur/location...      300.0  \n",
       "1  https://www.avito.ma/fr/al_qods/appartements/a...     2400.0  \n",
       "2  https://www.avito.ma/fr/autre_secteur/appartem...     6500.0  \n",
       "3  https://www.avito.ma/fr/sidi_maarouf/apparteme...     3000.0  \n",
       "6  https://www.avito.ma/fr/mimosas/appartements/A...     6800.0  "
      ]
     },
     "execution_count": 288,
     "metadata": {},
     "output_type": "execute_result"
    }
   ],
   "source": [
    "df_louer.head()"
   ]
  },
  {
   "cell_type": "code",
   "execution_count": 289,
   "metadata": {},
   "outputs": [
    {
     "data": {
      "text/html": [
       "<div>\n",
       "<style scoped>\n",
       "    .dataframe tbody tr th:only-of-type {\n",
       "        vertical-align: middle;\n",
       "    }\n",
       "\n",
       "    .dataframe tbody tr th {\n",
       "        vertical-align: top;\n",
       "    }\n",
       "\n",
       "    .dataframe thead th {\n",
       "        text-align: right;\n",
       "    }\n",
       "</style>\n",
       "<table border=\"1\" class=\"dataframe\">\n",
       "  <thead>\n",
       "    <tr style=\"text-align: right;\">\n",
       "      <th></th>\n",
       "      <th>title</th>\n",
       "      <th>price</th>\n",
       "      <th>location</th>\n",
       "      <th>type_de_vente</th>\n",
       "      <th>salon</th>\n",
       "      <th>chamber</th>\n",
       "      <th>toilete</th>\n",
       "      <th>area</th>\n",
       "      <th>link</th>\n",
       "      <th>new_price</th>\n",
       "    </tr>\n",
       "  </thead>\n",
       "  <tbody>\n",
       "    <tr>\n",
       "      <th>4</th>\n",
       "      <td>Appartement 84 m²Al Baraka à Dcheïra El Jihadia</td>\n",
       "      <td>701 720 DH</td>\n",
       "      <td>Dcheïra El Jihadia</td>\n",
       "      <td>a vendre</td>\n",
       "      <td>1.0</td>\n",
       "      <td>3.0</td>\n",
       "      <td>2.0</td>\n",
       "      <td>84.0</td>\n",
       "      <td>https://www.avito.ma/fr/dche%C3%AFra_el_jihadi...</td>\n",
       "      <td>701720.0</td>\n",
       "    </tr>\n",
       "    <tr>\n",
       "      <th>5</th>\n",
       "      <td>Appartement à vendre 79 m² à Casablanca</td>\n",
       "      <td>580 000 DH</td>\n",
       "      <td>Casablanca</td>\n",
       "      <td>a vendre</td>\n",
       "      <td>2.0</td>\n",
       "      <td>2.0</td>\n",
       "      <td>1.0</td>\n",
       "      <td>79.0</td>\n",
       "      <td>https://www.avito.ma/fr/sidi_moumen/appartemen...</td>\n",
       "      <td>580000.0</td>\n",
       "    </tr>\n",
       "    <tr>\n",
       "      <th>7</th>\n",
       "      <td>Appart. 79 m2 Angle Chouka Omarya-Hay Chrifa</td>\n",
       "      <td>760 000 DH</td>\n",
       "      <td>Casablanca</td>\n",
       "      <td>a vendre</td>\n",
       "      <td>2.0</td>\n",
       "      <td>2.0</td>\n",
       "      <td>1.0</td>\n",
       "      <td>79.0</td>\n",
       "      <td>https://www.avito.ma/fr/a%C3%AFn_chock/apparte...</td>\n",
       "      <td>760000.0</td>\n",
       "    </tr>\n",
       "    <tr>\n",
       "      <th>9</th>\n",
       "      <td>Appart. Haut Stand 104 m2 Résid. Fermée Califo...</td>\n",
       "      <td>1 560 000 DH</td>\n",
       "      <td>Casablanca</td>\n",
       "      <td>a vendre</td>\n",
       "      <td>1.0</td>\n",
       "      <td>3.0</td>\n",
       "      <td>2.0</td>\n",
       "      <td>104.0</td>\n",
       "      <td>https://www.avito.ma/fr/californie/appartement...</td>\n",
       "      <td>1560000.0</td>\n",
       "    </tr>\n",
       "    <tr>\n",
       "      <th>10</th>\n",
       "      <td>CMN-MA-1136 - Bureau à vendre à Maârif</td>\n",
       "      <td>1 100 000 DH</td>\n",
       "      <td>Casablanca</td>\n",
       "      <td>a vendre</td>\n",
       "      <td>NaN</td>\n",
       "      <td>1.0</td>\n",
       "      <td>91.0</td>\n",
       "      <td>NaN</td>\n",
       "      <td>https://www.avito.ma/fr/maarif/bureaux/CMN_MA_...</td>\n",
       "      <td>1100000.0</td>\n",
       "    </tr>\n",
       "  </tbody>\n",
       "</table>\n",
       "</div>"
      ],
      "text/plain": [
       "                                                title         price  \\\n",
       "4     Appartement 84 m²Al Baraka à Dcheïra El Jihadia    701 720 DH   \n",
       "5             Appartement à vendre 79 m² à Casablanca    580 000 DH   \n",
       "7        Appart. 79 m2 Angle Chouka Omarya-Hay Chrifa    760 000 DH   \n",
       "9   Appart. Haut Stand 104 m2 Résid. Fermée Califo...  1 560 000 DH   \n",
       "10             CMN-MA-1136 - Bureau à vendre à Maârif  1 100 000 DH   \n",
       "\n",
       "              location type_de_vente  salon  chamber  toilete   area  \\\n",
       "4   Dcheïra El Jihadia      a vendre    1.0      3.0      2.0   84.0   \n",
       "5           Casablanca      a vendre    2.0      2.0      1.0   79.0   \n",
       "7           Casablanca      a vendre    2.0      2.0      1.0   79.0   \n",
       "9           Casablanca      a vendre    1.0      3.0      2.0  104.0   \n",
       "10          Casablanca      a vendre    NaN      1.0     91.0    NaN   \n",
       "\n",
       "                                                 link  new_price  \n",
       "4   https://www.avito.ma/fr/dche%C3%AFra_el_jihadi...   701720.0  \n",
       "5   https://www.avito.ma/fr/sidi_moumen/appartemen...   580000.0  \n",
       "7   https://www.avito.ma/fr/a%C3%AFn_chock/apparte...   760000.0  \n",
       "9   https://www.avito.ma/fr/californie/appartement...  1560000.0  \n",
       "10  https://www.avito.ma/fr/maarif/bureaux/CMN_MA_...  1100000.0  "
      ]
     },
     "execution_count": 289,
     "metadata": {},
     "output_type": "execute_result"
    }
   ],
   "source": [
    "df_vendre.head()"
   ]
  },
  {
   "cell_type": "code",
   "execution_count": 290,
   "metadata": {},
   "outputs": [],
   "source": [
    "df_combined = pd.concat([df_vendre,df_louer],ignore_index=True)"
   ]
  },
  {
   "cell_type": "code",
   "execution_count": 291,
   "metadata": {},
   "outputs": [],
   "source": [
    "df_combined['salon'] = df['salon']\n",
    "df_combined['chamber'] = df['chamber']\n",
    "df_combined['toilete'] = df['toilete']\n",
    "df_combined['area'] = df['area']"
   ]
  },
  {
   "cell_type": "code",
   "execution_count": 292,
   "metadata": {},
   "outputs": [
    {
     "name": "stdout",
     "output_type": "stream",
     "text": [
      "<class 'pandas.core.frame.DataFrame'>\n",
      "RangeIndex: 1063 entries, 0 to 1062\n",
      "Data columns (total 10 columns):\n",
      " #   Column         Non-Null Count  Dtype  \n",
      "---  ------         --------------  -----  \n",
      " 0   title          1062 non-null   object \n",
      " 1   price          930 non-null    object \n",
      " 2   location       1062 non-null   object \n",
      " 3   type_de_vente  1063 non-null   object \n",
      " 4   salon          1063 non-null   float64\n",
      " 5   chamber        1063 non-null   float64\n",
      " 6   toilete        1063 non-null   float64\n",
      " 7   area           1063 non-null   float64\n",
      " 8   link           1063 non-null   object \n",
      " 9   new_price      1063 non-null   float64\n",
      "dtypes: float64(5), object(5)\n",
      "memory usage: 83.2+ KB\n"
     ]
    }
   ],
   "source": [
    "df_combined.info()"
   ]
  },
  {
   "cell_type": "markdown",
   "metadata": {},
   "source": [
    "je vais essayer avec le Knn"
   ]
  },
  {
   "cell_type": "code",
   "execution_count": 293,
   "metadata": {},
   "outputs": [
    {
     "name": "stdout",
     "output_type": "stream",
     "text": [
      "<class 'pandas.core.frame.DataFrame'>\n",
      "RangeIndex: 1063 entries, 0 to 1062\n",
      "Data columns (total 9 columns):\n",
      " #   Column         Non-Null Count  Dtype  \n",
      "---  ------         --------------  -----  \n",
      " 0   title          1062 non-null   object \n",
      " 1   price          930 non-null    object \n",
      " 2   location       1062 non-null   object \n",
      " 3   type_de_vente  386 non-null    object \n",
      " 4   salon          640 non-null    float64\n",
      " 5   chamber        339 non-null    float64\n",
      " 6   toilete        336 non-null    float64\n",
      " 7   area           693 non-null    float64\n",
      " 8   link           1063 non-null   object \n",
      "dtypes: float64(4), object(5)\n",
      "memory usage: 74.9+ KB\n"
     ]
    }
   ],
   "source": [
    "data.info()"
   ]
  },
  {
   "cell_type": "code",
   "execution_count": 294,
   "metadata": {},
   "outputs": [
    {
     "data": {
      "text/plain": [
       "title              1\n",
       "price            133\n",
       "location           1\n",
       "type_de_vente      0\n",
       "salon            423\n",
       "chamber          724\n",
       "toilete          727\n",
       "area             370\n",
       "link               0\n",
       "new_price        133\n",
       "dtype: int64"
      ]
     },
     "execution_count": 294,
     "metadata": {},
     "output_type": "execute_result"
    }
   ],
   "source": [
    "df_knn.isna().sum()"
   ]
  },
  {
   "cell_type": "code",
   "execution_count": 296,
   "metadata": {},
   "outputs": [
    {
     "name": "stdout",
     "output_type": "stream",
     "text": [
      "Données après imputation et arrondi des colonnes 'chamber' et 'salon':\n",
      "            area  chamber  toilete  salon\n",
      "0      97.308802        2        2      1\n",
      "1      50.000000        2        1      1\n",
      "2     150.000000        2        2      1\n",
      "3      56.000000        2        1      1\n",
      "4      84.000000        3        2      1\n",
      "...          ...      ...      ...    ...\n",
      "1058  151.000000        3        2      1\n",
      "1059   90.000000        2        2      1\n",
      "1060  110.000000        2        1      1\n",
      "1061   99.000000        3        2      1\n",
      "1062   85.000000        2        2      1\n",
      "\n",
      "[1063 rows x 4 columns]\n"
     ]
    }
   ],
   "source": [
    "import pandas as pd\n",
    "from sklearn.impute import KNNImputer\n",
    "\n",
    "\n",
    "# Colonnes pertinentes pour l'imputation\n",
    "columns_to_impute = ['area', 'chamber', 'toilete', 'salon']\n",
    "\n",
    "# Appliquer KNNImputer\n",
    "imputer = KNNImputer(n_neighbors=2)\n",
    "df_imputed = pd.DataFrame(imputer.fit_transform(df_knn[columns_to_impute]), columns=columns_to_impute)\n",
    "\n",
    "# Arrondir les colonnes 'chamber' et 'salon' pour obtenir des entiers\n",
    "df_imputed['chamber'] = df_imputed['chamber'].round().astype(int)\n",
    "df_imputed['salon'] = df_imputed['salon'].round().astype(int)\n",
    "df_imputed['toilete'] = df_imputed['toilete'].round().astype(int)\n",
    "\n",
    "print(\"Données après imputation et arrondi des colonnes 'chamber' et 'salon':\")\n",
    "print(df_imputed)\n"
   ]
  },
  {
   "cell_type": "code",
   "execution_count": 298,
   "metadata": {},
   "outputs": [],
   "source": [
    "df_imputed[['title','type_de_vente','location','new_price']] = df_combined[['title','type_de_vente','location','new_price']]"
   ]
  },
  {
   "cell_type": "code",
   "execution_count": 302,
   "metadata": {},
   "outputs": [
    {
     "data": {
      "text/html": [
       "<div>\n",
       "<style scoped>\n",
       "    .dataframe tbody tr th:only-of-type {\n",
       "        vertical-align: middle;\n",
       "    }\n",
       "\n",
       "    .dataframe tbody tr th {\n",
       "        vertical-align: top;\n",
       "    }\n",
       "\n",
       "    .dataframe thead th {\n",
       "        text-align: right;\n",
       "    }\n",
       "</style>\n",
       "<table border=\"1\" class=\"dataframe\">\n",
       "  <thead>\n",
       "    <tr style=\"text-align: right;\">\n",
       "      <th></th>\n",
       "      <th>area</th>\n",
       "      <th>chamber</th>\n",
       "      <th>toilete</th>\n",
       "      <th>salon</th>\n",
       "      <th>title</th>\n",
       "      <th>type_de_vente</th>\n",
       "      <th>location</th>\n",
       "      <th>new_price</th>\n",
       "    </tr>\n",
       "  </thead>\n",
       "  <tbody>\n",
       "    <tr>\n",
       "      <th>0</th>\n",
       "      <td>97.308802</td>\n",
       "      <td>2</td>\n",
       "      <td>2</td>\n",
       "      <td>1</td>\n",
       "      <td>Appartement 84 m²Al Baraka à Dcheïra El Jihadia</td>\n",
       "      <td>a vendre</td>\n",
       "      <td>Dcheïra El Jihadia</td>\n",
       "      <td>701720.0</td>\n",
       "    </tr>\n",
       "    <tr>\n",
       "      <th>1</th>\n",
       "      <td>50.000000</td>\n",
       "      <td>2</td>\n",
       "      <td>1</td>\n",
       "      <td>1</td>\n",
       "      <td>Appartement à vendre 79 m² à Casablanca</td>\n",
       "      <td>a vendre</td>\n",
       "      <td>Casablanca</td>\n",
       "      <td>580000.0</td>\n",
       "    </tr>\n",
       "    <tr>\n",
       "      <th>2</th>\n",
       "      <td>150.000000</td>\n",
       "      <td>2</td>\n",
       "      <td>2</td>\n",
       "      <td>1</td>\n",
       "      <td>Appart. 79 m2 Angle Chouka Omarya-Hay Chrifa</td>\n",
       "      <td>a vendre</td>\n",
       "      <td>Casablanca</td>\n",
       "      <td>760000.0</td>\n",
       "    </tr>\n",
       "    <tr>\n",
       "      <th>3</th>\n",
       "      <td>56.000000</td>\n",
       "      <td>2</td>\n",
       "      <td>1</td>\n",
       "      <td>1</td>\n",
       "      <td>Appart. Haut Stand 104 m2 Résid. Fermée Califo...</td>\n",
       "      <td>a vendre</td>\n",
       "      <td>Casablanca</td>\n",
       "      <td>1560000.0</td>\n",
       "    </tr>\n",
       "    <tr>\n",
       "      <th>4</th>\n",
       "      <td>84.000000</td>\n",
       "      <td>3</td>\n",
       "      <td>2</td>\n",
       "      <td>1</td>\n",
       "      <td>CMN-MA-1136 - Bureau à vendre à Maârif</td>\n",
       "      <td>a vendre</td>\n",
       "      <td>Casablanca</td>\n",
       "      <td>1100000.0</td>\n",
       "    </tr>\n",
       "  </tbody>\n",
       "</table>\n",
       "</div>"
      ],
      "text/plain": [
       "         area  chamber  toilete  salon  \\\n",
       "0   97.308802        2        2      1   \n",
       "1   50.000000        2        1      1   \n",
       "2  150.000000        2        2      1   \n",
       "3   56.000000        2        1      1   \n",
       "4   84.000000        3        2      1   \n",
       "\n",
       "                                               title type_de_vente  \\\n",
       "0    Appartement 84 m²Al Baraka à Dcheïra El Jihadia      a vendre   \n",
       "1            Appartement à vendre 79 m² à Casablanca      a vendre   \n",
       "2       Appart. 79 m2 Angle Chouka Omarya-Hay Chrifa      a vendre   \n",
       "3  Appart. Haut Stand 104 m2 Résid. Fermée Califo...      a vendre   \n",
       "4             CMN-MA-1136 - Bureau à vendre à Maârif      a vendre   \n",
       "\n",
       "             location  new_price  \n",
       "0  Dcheïra El Jihadia   701720.0  \n",
       "1          Casablanca   580000.0  \n",
       "2          Casablanca   760000.0  \n",
       "3          Casablanca  1560000.0  \n",
       "4          Casablanca  1100000.0  "
      ]
     },
     "execution_count": 302,
     "metadata": {},
     "output_type": "execute_result"
    }
   ],
   "source": [
    "df_imputed.head()"
   ]
  },
  {
   "cell_type": "markdown",
   "metadata": {},
   "source": [
    "Détection et Traitement des Valeurs Aberrantes"
   ]
  },
  {
   "cell_type": "code",
   "execution_count": 303,
   "metadata": {},
   "outputs": [
    {
     "data": {
      "text/plain": [
       "array([  2.,   1.,  91., 100.,   3.,   0.,   4.,  59.])"
      ]
     },
     "execution_count": 303,
     "metadata": {},
     "output_type": "execute_result"
    }
   ],
   "source": [
    "df_combined.toilete.unique()"
   ]
  },
  {
   "cell_type": "code",
   "execution_count": 304,
   "metadata": {},
   "outputs": [
    {
     "data": {
      "image/png": "[encoded data removed]",
      "text/plain": [
       "<Figure size 1000x600 with 1 Axes>"
      ]
     },
     "metadata": {},
     "output_type": "display_data"
    }
   ],
   "source": [
    "aberrant_toilete=detecter_aberrantes_par_frequence_nombre(df_combined,'toilete',2)"
   ]
  },
  {
   "cell_type": "code",
   "execution_count": 305,
   "metadata": {},
   "outputs": [
    {
     "data": {
      "text/html": [
       "<div>\n",
       "<style scoped>\n",
       "    .dataframe tbody tr th:only-of-type {\n",
       "        vertical-align: middle;\n",
       "    }\n",
       "\n",
       "    .dataframe tbody tr th {\n",
       "        vertical-align: top;\n",
       "    }\n",
       "\n",
       "    .dataframe thead th {\n",
       "        text-align: right;\n",
       "    }\n",
       "</style>\n",
       "<table border=\"1\" class=\"dataframe\">\n",
       "  <thead>\n",
       "    <tr style=\"text-align: right;\">\n",
       "      <th></th>\n",
       "      <th>title</th>\n",
       "      <th>price</th>\n",
       "      <th>location</th>\n",
       "      <th>type_de_vente</th>\n",
       "      <th>salon</th>\n",
       "      <th>chamber</th>\n",
       "      <th>toilete</th>\n",
       "      <th>area</th>\n",
       "      <th>link</th>\n",
       "      <th>new_price</th>\n",
       "    </tr>\n",
       "  </thead>\n",
       "  <tbody>\n",
       "    <tr>\n",
       "      <th>10</th>\n",
       "      <td>Appartement à vendre 44 m² à Casablanca</td>\n",
       "      <td>864 000 DH</td>\n",
       "      <td>Casablanca</td>\n",
       "      <td>a vendre</td>\n",
       "      <td>1.0</td>\n",
       "      <td>1.0</td>\n",
       "      <td>91.0</td>\n",
       "      <td>90.0</td>\n",
       "      <td>https://www.avito.ma/fr/sidi_maarouf/apparteme...</td>\n",
       "      <td>864000.0</td>\n",
       "    </tr>\n",
       "    <tr>\n",
       "      <th>101</th>\n",
       "      <td>Vente Appartement façade à Maghreb Arabi KENITRA</td>\n",
       "      <td>595 000 DH</td>\n",
       "      <td>Kénitra</td>\n",
       "      <td>a vendre</td>\n",
       "      <td>1.0</td>\n",
       "      <td>3.0</td>\n",
       "      <td>100.0</td>\n",
       "      <td>49.0</td>\n",
       "      <td>https://www.avito.ma/fr/al_maghrib_al_arabi/ap...</td>\n",
       "      <td>595000.0</td>\n",
       "    </tr>\n",
       "    <tr>\n",
       "      <th>602</th>\n",
       "      <td>appartement à laouer</td>\n",
       "      <td>4 500 DH</td>\n",
       "      <td>Agadir</td>\n",
       "      <td>a louer</td>\n",
       "      <td>2.0</td>\n",
       "      <td>3.0</td>\n",
       "      <td>4.0</td>\n",
       "      <td>270.0</td>\n",
       "      <td>https://www.avito.ma/fr/hay_salam/appartements...</td>\n",
       "      <td>4500.0</td>\n",
       "    </tr>\n",
       "    <tr>\n",
       "      <th>628</th>\n",
       "      <td>Appartement à louer 50 m² à Casablanca</td>\n",
       "      <td>6 200 DH</td>\n",
       "      <td>Casablanca</td>\n",
       "      <td>a louer</td>\n",
       "      <td>1.0</td>\n",
       "      <td>1.0</td>\n",
       "      <td>59.0</td>\n",
       "      <td>90.0</td>\n",
       "      <td>https://www.avito.ma/fr/belv%C3%A9d%C3%A8re/ap...</td>\n",
       "      <td>6200.0</td>\n",
       "    </tr>\n",
       "  </tbody>\n",
       "</table>\n",
       "</div>"
      ],
      "text/plain": [
       "                                                title       price    location  \\\n",
       "10            Appartement à vendre 44 m² à Casablanca  864 000 DH  Casablanca   \n",
       "101  Vente Appartement façade à Maghreb Arabi KENITRA  595 000 DH     Kénitra   \n",
       "602                              appartement à laouer    4 500 DH      Agadir   \n",
       "628            Appartement à louer 50 m² à Casablanca    6 200 DH  Casablanca   \n",
       "\n",
       "    type_de_vente  salon  chamber  toilete   area  \\\n",
       "10       a vendre    1.0      1.0     91.0   90.0   \n",
       "101      a vendre    1.0      3.0    100.0   49.0   \n",
       "602       a louer    2.0      3.0      4.0  270.0   \n",
       "628       a louer    1.0      1.0     59.0   90.0   \n",
       "\n",
       "                                                  link  new_price  \n",
       "10   https://www.avito.ma/fr/sidi_maarouf/apparteme...   864000.0  \n",
       "101  https://www.avito.ma/fr/al_maghrib_al_arabi/ap...   595000.0  \n",
       "602  https://www.avito.ma/fr/hay_salam/appartements...     4500.0  \n",
       "628  https://www.avito.ma/fr/belv%C3%A9d%C3%A8re/ap...     6200.0  "
      ]
     },
     "execution_count": 305,
     "metadata": {},
     "output_type": "execute_result"
    }
   ],
   "source": [
    "aberrant_toilete"
   ]
  },
  {
   "cell_type": "markdown",
   "metadata": {},
   "source": [
    "mettre a jour les annomalies toilete"
   ]
  },
  {
   "cell_type": "code",
   "execution_count": 306,
   "metadata": {},
   "outputs": [],
   "source": [
    "df_combined.loc[aberrant_toilete.index, 'toilete'] = 1\n"
   ]
  },
  {
   "cell_type": "code",
   "execution_count": 307,
   "metadata": {},
   "outputs": [
    {
     "data": {
      "image/png": "[encoded data removed]",
      "text/plain": [
       "<Figure size 1000x600 with 1 Axes>"
      ]
     },
     "metadata": {},
     "output_type": "display_data"
    }
   ],
   "source": [
    "aberrant_salon = detecter_aberrantes_par_frequence_nombre(df_combined,'salon',1)"
   ]
  },
  {
   "cell_type": "code",
   "execution_count": 308,
   "metadata": {},
   "outputs": [
    {
     "data": {
      "text/html": [
       "<div>\n",
       "<style scoped>\n",
       "    .dataframe tbody tr th:only-of-type {\n",
       "        vertical-align: middle;\n",
       "    }\n",
       "\n",
       "    .dataframe tbody tr th {\n",
       "        vertical-align: top;\n",
       "    }\n",
       "\n",
       "    .dataframe thead th {\n",
       "        text-align: right;\n",
       "    }\n",
       "</style>\n",
       "<table border=\"1\" class=\"dataframe\">\n",
       "  <thead>\n",
       "    <tr style=\"text-align: right;\">\n",
       "      <th></th>\n",
       "      <th>title</th>\n",
       "      <th>price</th>\n",
       "      <th>location</th>\n",
       "      <th>type_de_vente</th>\n",
       "      <th>salon</th>\n",
       "      <th>chamber</th>\n",
       "      <th>toilete</th>\n",
       "      <th>area</th>\n",
       "      <th>link</th>\n",
       "      <th>new_price</th>\n",
       "    </tr>\n",
       "  </thead>\n",
       "  <tbody>\n",
       "  </tbody>\n",
       "</table>\n",
       "</div>"
      ],
      "text/plain": [
       "Empty DataFrame\n",
       "Columns: [title, price, location, type_de_vente, salon, chamber, toilete, area, link, new_price]\n",
       "Index: []"
      ]
     },
     "execution_count": 308,
     "metadata": {},
     "output_type": "execute_result"
    }
   ],
   "source": [
    "aberrant_salon"
   ]
  },
  {
   "cell_type": "code",
   "execution_count": 309,
   "metadata": {},
   "outputs": [
    {
     "data": {
      "image/png": "[encoded data removed]",
      "text/plain": [
       "<Figure size 1000x600 with 1 Axes>"
      ]
     },
     "metadata": {},
     "output_type": "display_data"
    }
   ],
   "source": [
    "aberrant_chamber = detecter_aberrantes_par_frequence_nombre(df_combined,'chamber',2)"
   ]
  },
  {
   "cell_type": "code",
   "execution_count": 310,
   "metadata": {},
   "outputs": [
    {
     "data": {
      "text/html": [
       "<div>\n",
       "<style scoped>\n",
       "    .dataframe tbody tr th:only-of-type {\n",
       "        vertical-align: middle;\n",
       "    }\n",
       "\n",
       "    .dataframe tbody tr th {\n",
       "        vertical-align: top;\n",
       "    }\n",
       "\n",
       "    .dataframe thead th {\n",
       "        text-align: right;\n",
       "    }\n",
       "</style>\n",
       "<table border=\"1\" class=\"dataframe\">\n",
       "  <thead>\n",
       "    <tr style=\"text-align: right;\">\n",
       "      <th></th>\n",
       "      <th>title</th>\n",
       "      <th>price</th>\n",
       "      <th>location</th>\n",
       "      <th>type_de_vente</th>\n",
       "      <th>salon</th>\n",
       "      <th>chamber</th>\n",
       "      <th>toilete</th>\n",
       "      <th>area</th>\n",
       "      <th>link</th>\n",
       "      <th>new_price</th>\n",
       "    </tr>\n",
       "  </thead>\n",
       "  <tbody>\n",
       "    <tr>\n",
       "      <th>665</th>\n",
       "      <td>Appartement grand et propre équipé</td>\n",
       "      <td>350 DH /Nuit</td>\n",
       "      <td>Ifrane</td>\n",
       "      <td>a louer</td>\n",
       "      <td>3.0</td>\n",
       "      <td>6.0</td>\n",
       "      <td>3.0</td>\n",
       "      <td>103.0</td>\n",
       "      <td>https://www.avito.ma/fr/atlas/locations_de_vac...</td>\n",
       "      <td>350.0</td>\n",
       "    </tr>\n",
       "  </tbody>\n",
       "</table>\n",
       "</div>"
      ],
      "text/plain": [
       "                                  title         price location type_de_vente  \\\n",
       "665  Appartement grand et propre équipé  350 DH /Nuit   Ifrane       a louer   \n",
       "\n",
       "     salon  chamber  toilete   area  \\\n",
       "665    3.0      6.0      3.0  103.0   \n",
       "\n",
       "                                                  link  new_price  \n",
       "665  https://www.avito.ma/fr/atlas/locations_de_vac...      350.0  "
      ]
     },
     "execution_count": 310,
     "metadata": {},
     "output_type": "execute_result"
    }
   ],
   "source": [
    "aberrant_chamber"
   ]
  },
  {
   "cell_type": "markdown",
   "metadata": {},
   "source": [
    "mettre a jour les annomalies de chambre"
   ]
  },
  {
   "cell_type": "code",
   "execution_count": 311,
   "metadata": {},
   "outputs": [],
   "source": [
    "df_combined.loc[aberrant_chamber.index,'chamber'] = 3"
   ]
  },
  {
   "cell_type": "markdown",
   "metadata": {},
   "source": [
    "detecter les aberrantes par Z_score"
   ]
  },
  {
   "cell_type": "code",
   "execution_count": 315,
   "metadata": {},
   "outputs": [
    {
     "name": "stderr",
     "output_type": "stream",
     "text": [
      "/home/rajarabii/projects/data_analyse_avito/src/functions.py:121: SettingWithCopyWarning: \n",
      "A value is trying to be set on a copy of a slice from a DataFrame.\n",
      "Try using .loc[row_indexer,col_indexer] = value instead\n",
      "\n",
      "See the caveats in the documentation: https://pandas.pydata.org/pandas-docs/stable/user_guide/indexing.html#returning-a-view-versus-a-copy\n",
      "  data[f'z_score_{colone}'] = (data[colone] - data[colone].mean()) / data[colone].std()\n",
      "/home/rajarabii/projects/data_analyse_avito/src/functions.py:124: SettingWithCopyWarning: \n",
      "A value is trying to be set on a copy of a slice from a DataFrame.\n",
      "Try using .loc[row_indexer,col_indexer] = value instead\n",
      "\n",
      "See the caveats in the documentation: https://pandas.pydata.org/pandas-docs/stable/user_guide/indexing.html#returning-a-view-versus-a-copy\n",
      "  data['aberrant'] = np.abs(data[f'z_score_{colone}']) > 3\n"
     ]
    },
    {
     "data": {
      "image/png": "[encoded data removed]",
      "text/plain": [
       "<Figure size 1000x600 with 1 Axes>"
      ]
     },
     "metadata": {},
     "output_type": "display_data"
    }
   ],
   "source": [
    "aberrante_price_louer=detecter_et_plot_zscore(df_combined[df_combined['type_de_vente']=='a louer'],'new_price')"
   ]
  },
  {
   "cell_type": "code",
   "execution_count": 317,
   "metadata": {},
   "outputs": [
    {
     "name": "stderr",
     "output_type": "stream",
     "text": [
      "/home/rajarabii/projects/data_analyse_avito/src/functions.py:121: SettingWithCopyWarning: \n",
      "A value is trying to be set on a copy of a slice from a DataFrame.\n",
      "Try using .loc[row_indexer,col_indexer] = value instead\n",
      "\n",
      "See the caveats in the documentation: https://pandas.pydata.org/pandas-docs/stable/user_guide/indexing.html#returning-a-view-versus-a-copy\n",
      "  data[f'z_score_{colone}'] = (data[colone] - data[colone].mean()) / data[colone].std()\n",
      "/home/rajarabii/projects/data_analyse_avito/src/functions.py:124: SettingWithCopyWarning: \n",
      "A value is trying to be set on a copy of a slice from a DataFrame.\n",
      "Try using .loc[row_indexer,col_indexer] = value instead\n",
      "\n",
      "See the caveats in the documentation: https://pandas.pydata.org/pandas-docs/stable/user_guide/indexing.html#returning-a-view-versus-a-copy\n",
      "  data['aberrant'] = np.abs(data[f'z_score_{colone}']) > 3\n"
     ]
    },
    {
     "data": {
      "image/png": "[encoded data removed]",
      "text/plain": [
       "<Figure size 1000x600 with 1 Axes>"
      ]
     },
     "metadata": {},
     "output_type": "display_data"
    }
   ],
   "source": [
    "aberrante_price_louer=detecter_et_plot_zscore(df_combined[df_combined['type_de_vente']=='a louer'],'new_price')"
   ]
  },
  {
   "cell_type": "markdown",
   "metadata": {},
   "source": [
    "detecter les aberrantes par frequance "
   ]
  },
  {
   "cell_type": "code",
   "execution_count": 340,
   "metadata": {},
   "outputs": [
    {
     "data": {
      "text/plain": [
       "Index(['new_price', 'area', 'chamber', 'toilete', 'salon', 'title',\n",
       "       'type_de_vente', 'location'],\n",
       "      dtype='object')"
      ]
     },
     "execution_count": 340,
     "metadata": {},
     "output_type": "execute_result"
    }
   ],
   "source": [
    "df_imputed.columns"
   ]
  },
  {
   "cell_type": "code",
   "execution_count": 318,
   "metadata": {},
   "outputs": [
    {
     "data": {
      "image/png": "[encoded data removed]",
      "text/plain": [
       "<Figure size 1000x600 with 1 Axes>"
      ]
     },
     "metadata": {},
     "output_type": "display_data"
    }
   ],
   "source": [
    "aberrant_toilete=detecter_aberrantes_par_frequence_nombre(df_imputed,'toilete',2)"
   ]
  },
  {
   "cell_type": "code",
   "execution_count": 319,
   "metadata": {},
   "outputs": [
    {
     "data": {
      "text/html": [
       "<div>\n",
       "<style scoped>\n",
       "    .dataframe tbody tr th:only-of-type {\n",
       "        vertical-align: middle;\n",
       "    }\n",
       "\n",
       "    .dataframe tbody tr th {\n",
       "        vertical-align: top;\n",
       "    }\n",
       "\n",
       "    .dataframe thead th {\n",
       "        text-align: right;\n",
       "    }\n",
       "</style>\n",
       "<table border=\"1\" class=\"dataframe\">\n",
       "  <thead>\n",
       "    <tr style=\"text-align: right;\">\n",
       "      <th></th>\n",
       "      <th>area</th>\n",
       "      <th>chamber</th>\n",
       "      <th>toilete</th>\n",
       "      <th>salon</th>\n",
       "      <th>title</th>\n",
       "      <th>type_de_vente</th>\n",
       "      <th>location</th>\n",
       "      <th>new_price</th>\n",
       "    </tr>\n",
       "  </thead>\n",
       "  <tbody>\n",
       "    <tr>\n",
       "      <th>10</th>\n",
       "      <td>107.5</td>\n",
       "      <td>1</td>\n",
       "      <td>91</td>\n",
       "      <td>2</td>\n",
       "      <td>Appartement à vendre 44 m² à Casablanca</td>\n",
       "      <td>a vendre</td>\n",
       "      <td>Casablanca</td>\n",
       "      <td>864000.0</td>\n",
       "    </tr>\n",
       "    <tr>\n",
       "      <th>101</th>\n",
       "      <td>49.0</td>\n",
       "      <td>3</td>\n",
       "      <td>100</td>\n",
       "      <td>1</td>\n",
       "      <td>Vente Appartement façade à Maghreb Arabi KENITRA</td>\n",
       "      <td>a vendre</td>\n",
       "      <td>Kénitra</td>\n",
       "      <td>595000.0</td>\n",
       "    </tr>\n",
       "    <tr>\n",
       "      <th>491</th>\n",
       "      <td>48.0</td>\n",
       "      <td>2</td>\n",
       "      <td>51</td>\n",
       "      <td>1</td>\n",
       "      <td>Appartement en location journalière maarif</td>\n",
       "      <td>a louer</td>\n",
       "      <td>Casablanca</td>\n",
       "      <td>580.0</td>\n",
       "    </tr>\n",
       "    <tr>\n",
       "      <th>602</th>\n",
       "      <td>270.0</td>\n",
       "      <td>3</td>\n",
       "      <td>4</td>\n",
       "      <td>2</td>\n",
       "      <td>appartement à laouer</td>\n",
       "      <td>a louer</td>\n",
       "      <td>Agadir</td>\n",
       "      <td>4500.0</td>\n",
       "    </tr>\n",
       "    <tr>\n",
       "      <th>628</th>\n",
       "      <td>107.5</td>\n",
       "      <td>1</td>\n",
       "      <td>59</td>\n",
       "      <td>2</td>\n",
       "      <td>Appartement à louer 50 m² à Casablanca</td>\n",
       "      <td>a louer</td>\n",
       "      <td>Casablanca</td>\n",
       "      <td>6200.0</td>\n",
       "    </tr>\n",
       "    <tr>\n",
       "      <th>747</th>\n",
       "      <td>48.0</td>\n",
       "      <td>2</td>\n",
       "      <td>50</td>\n",
       "      <td>1</td>\n",
       "      <td>appartement</td>\n",
       "      <td>a louer</td>\n",
       "      <td>Casablanca</td>\n",
       "      <td>599.0</td>\n",
       "    </tr>\n",
       "  </tbody>\n",
       "</table>\n",
       "</div>"
      ],
      "text/plain": [
       "      area  chamber  toilete  salon  \\\n",
       "10   107.5        1       91      2   \n",
       "101   49.0        3      100      1   \n",
       "491   48.0        2       51      1   \n",
       "602  270.0        3        4      2   \n",
       "628  107.5        1       59      2   \n",
       "747   48.0        2       50      1   \n",
       "\n",
       "                                                title type_de_vente  \\\n",
       "10            Appartement à vendre 44 m² à Casablanca      a vendre   \n",
       "101  Vente Appartement façade à Maghreb Arabi KENITRA      a vendre   \n",
       "491        Appartement en location journalière maarif       a louer   \n",
       "602                              appartement à laouer       a louer   \n",
       "628            Appartement à louer 50 m² à Casablanca       a louer   \n",
       "747                                       appartement       a louer   \n",
       "\n",
       "       location  new_price  \n",
       "10   Casablanca   864000.0  \n",
       "101     Kénitra   595000.0  \n",
       "491  Casablanca      580.0  \n",
       "602      Agadir     4500.0  \n",
       "628  Casablanca     6200.0  \n",
       "747  Casablanca      599.0  "
      ]
     },
     "execution_count": 319,
     "metadata": {},
     "output_type": "execute_result"
    }
   ],
   "source": [
    "aberrant_toilete"
   ]
  },
  {
   "cell_type": "code",
   "execution_count": 320,
   "metadata": {},
   "outputs": [],
   "source": [
    "df_imputed.loc[aberrant_toilete.index,'toilete'] = 1"
   ]
  },
  {
   "cell_type": "code",
   "execution_count": 321,
   "metadata": {},
   "outputs": [
    {
     "data": {
      "image/png": "[encoded data removed]",
      "text/plain": [
       "<Figure size 1000x600 with 1 Axes>"
      ]
     },
     "metadata": {},
     "output_type": "display_data"
    }
   ],
   "source": [
    "aberrant_chamber=detecter_aberrantes_par_frequence_nombre(df_imputed,'chamber',2)"
   ]
  },
  {
   "cell_type": "code",
   "execution_count": 322,
   "metadata": {},
   "outputs": [
    {
     "data": {
      "text/html": [
       "<div>\n",
       "<style scoped>\n",
       "    .dataframe tbody tr th:only-of-type {\n",
       "        vertical-align: middle;\n",
       "    }\n",
       "\n",
       "    .dataframe tbody tr th {\n",
       "        vertical-align: top;\n",
       "    }\n",
       "\n",
       "    .dataframe thead th {\n",
       "        text-align: right;\n",
       "    }\n",
       "</style>\n",
       "<table border=\"1\" class=\"dataframe\">\n",
       "  <thead>\n",
       "    <tr style=\"text-align: right;\">\n",
       "      <th></th>\n",
       "      <th>area</th>\n",
       "      <th>chamber</th>\n",
       "      <th>toilete</th>\n",
       "      <th>salon</th>\n",
       "      <th>title</th>\n",
       "      <th>type_de_vente</th>\n",
       "      <th>location</th>\n",
       "      <th>new_price</th>\n",
       "    </tr>\n",
       "  </thead>\n",
       "  <tbody>\n",
       "    <tr>\n",
       "      <th>665</th>\n",
       "      <td>103.0</td>\n",
       "      <td>6</td>\n",
       "      <td>3</td>\n",
       "      <td>3</td>\n",
       "      <td>Appartement grand et propre équipé</td>\n",
       "      <td>a louer</td>\n",
       "      <td>Ifrane</td>\n",
       "      <td>350.0</td>\n",
       "    </tr>\n",
       "  </tbody>\n",
       "</table>\n",
       "</div>"
      ],
      "text/plain": [
       "      area  chamber  toilete  salon                               title  \\\n",
       "665  103.0        6        3      3  Appartement grand et propre équipé   \n",
       "\n",
       "    type_de_vente location  new_price  \n",
       "665       a louer   Ifrane      350.0  "
      ]
     },
     "execution_count": 322,
     "metadata": {},
     "output_type": "execute_result"
    }
   ],
   "source": [
    "aberrant_chamber"
   ]
  },
  {
   "cell_type": "code",
   "execution_count": 323,
   "metadata": {},
   "outputs": [],
   "source": [
    "df_imputed.loc[aberrant_chamber.index,'chamber'] = 2"
   ]
  },
  {
   "cell_type": "code",
   "execution_count": 324,
   "metadata": {},
   "outputs": [
    {
     "data": {
      "image/png": "[encoded data removed]",
      "text/plain": [
       "<Figure size 1000x600 with 1 Axes>"
      ]
     },
     "metadata": {},
     "output_type": "display_data"
    }
   ],
   "source": [
    "aberrant_salon=detecter_aberrantes_par_frequence_nombre(df_imputed,'salon',2)"
   ]
  },
  {
   "cell_type": "code",
   "execution_count": 325,
   "metadata": {},
   "outputs": [
    {
     "data": {
      "text/html": [
       "<div>\n",
       "<style scoped>\n",
       "    .dataframe tbody tr th:only-of-type {\n",
       "        vertical-align: middle;\n",
       "    }\n",
       "\n",
       "    .dataframe tbody tr th {\n",
       "        vertical-align: top;\n",
       "    }\n",
       "\n",
       "    .dataframe thead th {\n",
       "        text-align: right;\n",
       "    }\n",
       "</style>\n",
       "<table border=\"1\" class=\"dataframe\">\n",
       "  <thead>\n",
       "    <tr style=\"text-align: right;\">\n",
       "      <th></th>\n",
       "      <th>area</th>\n",
       "      <th>chamber</th>\n",
       "      <th>toilete</th>\n",
       "      <th>salon</th>\n",
       "      <th>title</th>\n",
       "      <th>type_de_vente</th>\n",
       "      <th>location</th>\n",
       "      <th>new_price</th>\n",
       "    </tr>\n",
       "  </thead>\n",
       "  <tbody>\n",
       "  </tbody>\n",
       "</table>\n",
       "</div>"
      ],
      "text/plain": [
       "Empty DataFrame\n",
       "Columns: [area, chamber, toilete, salon, title, type_de_vente, location, new_price]\n",
       "Index: []"
      ]
     },
     "execution_count": 325,
     "metadata": {},
     "output_type": "execute_result"
    }
   ],
   "source": [
    "aberrant_salon"
   ]
  },
  {
   "cell_type": "code",
   "execution_count": 326,
   "metadata": {},
   "outputs": [
    {
     "name": "stdout",
     "output_type": "stream",
     "text": [
      "-190487.5\n",
      "2185292.5\n"
     ]
    },
    {
     "data": {
      "image/png": "[encoded data removed]",
      "text/plain": [
       "<Figure size 800x600 with 1 Axes>"
      ]
     },
     "metadata": {},
     "output_type": "display_data"
    }
   ],
   "source": [
    "iqr_aberrant_price_vendre = detecter_avec_IQR(df_imputed[df_imputed['type_de_vente']=='a vendre'],'new_price')"
   ]
  },
  {
   "cell_type": "code",
   "execution_count": 327,
   "metadata": {},
   "outputs": [
    {
     "name": "stderr",
     "output_type": "stream",
     "text": [
      "/home/rajarabii/projects/data_analyse_avito/src/functions.py:121: SettingWithCopyWarning: \n",
      "A value is trying to be set on a copy of a slice from a DataFrame.\n",
      "Try using .loc[row_indexer,col_indexer] = value instead\n",
      "\n",
      "See the caveats in the documentation: https://pandas.pydata.org/pandas-docs/stable/user_guide/indexing.html#returning-a-view-versus-a-copy\n",
      "  data[f'z_score_{colone}'] = (data[colone] - data[colone].mean()) / data[colone].std()\n",
      "/home/rajarabii/projects/data_analyse_avito/src/functions.py:124: SettingWithCopyWarning: \n",
      "A value is trying to be set on a copy of a slice from a DataFrame.\n",
      "Try using .loc[row_indexer,col_indexer] = value instead\n",
      "\n",
      "See the caveats in the documentation: https://pandas.pydata.org/pandas-docs/stable/user_guide/indexing.html#returning-a-view-versus-a-copy\n",
      "  data['aberrant'] = np.abs(data[f'z_score_{colone}']) > 3\n"
     ]
    },
    {
     "data": {
      "image/png": "[encoded data removed]",
      "text/plain": [
       "<Figure size 1000x600 with 1 Axes>"
      ]
     },
     "metadata": {},
     "output_type": "display_data"
    }
   ],
   "source": [
    "iqr_aberrant_price_louer= detecter_et_plot_zscore(df_imputed[df_imputed['type_de_vente']=='a louer'],'new_price')"
   ]
  },
  {
   "cell_type": "code",
   "execution_count": 328,
   "metadata": {},
   "outputs": [
    {
     "data": {
      "text/html": [
       "<div>\n",
       "<style scoped>\n",
       "    .dataframe tbody tr th:only-of-type {\n",
       "        vertical-align: middle;\n",
       "    }\n",
       "\n",
       "    .dataframe tbody tr th {\n",
       "        vertical-align: top;\n",
       "    }\n",
       "\n",
       "    .dataframe thead th {\n",
       "        text-align: right;\n",
       "    }\n",
       "</style>\n",
       "<table border=\"1\" class=\"dataframe\">\n",
       "  <thead>\n",
       "    <tr style=\"text-align: right;\">\n",
       "      <th></th>\n",
       "      <th>area</th>\n",
       "      <th>chamber</th>\n",
       "      <th>toilete</th>\n",
       "      <th>salon</th>\n",
       "      <th>title</th>\n",
       "      <th>type_de_vente</th>\n",
       "      <th>location</th>\n",
       "      <th>new_price</th>\n",
       "      <th>z_score_new_price</th>\n",
       "      <th>aberrant</th>\n",
       "    </tr>\n",
       "  </thead>\n",
       "  <tbody>\n",
       "    <tr>\n",
       "      <th>541</th>\n",
       "      <td>97.308802</td>\n",
       "      <td>2</td>\n",
       "      <td>2</td>\n",
       "      <td>1</td>\n",
       "      <td>Appartement à louer 240 m² à Rabat</td>\n",
       "      <td>a louer</td>\n",
       "      <td>Rabat</td>\n",
       "      <td>24000.0</td>\n",
       "      <td>4.568575</td>\n",
       "      <td>True</td>\n",
       "    </tr>\n",
       "    <tr>\n",
       "      <th>644</th>\n",
       "      <td>97.308802</td>\n",
       "      <td>2</td>\n",
       "      <td>2</td>\n",
       "      <td>1</td>\n",
       "      <td>Appartement de 77m très bien placé à l'oasis</td>\n",
       "      <td>a louer</td>\n",
       "      <td>Casablanca</td>\n",
       "      <td>17500.0</td>\n",
       "      <td>3.103440</td>\n",
       "      <td>True</td>\n",
       "    </tr>\n",
       "    <tr>\n",
       "      <th>719</th>\n",
       "      <td>97.308802</td>\n",
       "      <td>2</td>\n",
       "      <td>2</td>\n",
       "      <td>1</td>\n",
       "      <td>appartement standing neuf a Hay riad</td>\n",
       "      <td>a louer</td>\n",
       "      <td>Rabat</td>\n",
       "      <td>21000.0</td>\n",
       "      <td>3.892359</td>\n",
       "      <td>True</td>\n",
       "    </tr>\n",
       "    <tr>\n",
       "      <th>734</th>\n",
       "      <td>89.000000</td>\n",
       "      <td>2</td>\n",
       "      <td>1</td>\n",
       "      <td>1</td>\n",
       "      <td>appartement standing meublé a souissi</td>\n",
       "      <td>a louer</td>\n",
       "      <td>Rabat</td>\n",
       "      <td>24000.0</td>\n",
       "      <td>4.568575</td>\n",
       "      <td>True</td>\n",
       "    </tr>\n",
       "    <tr>\n",
       "      <th>745</th>\n",
       "      <td>100.000000</td>\n",
       "      <td>4</td>\n",
       "      <td>2</td>\n",
       "      <td>1</td>\n",
       "      <td>Appartement standing a louer a souissi</td>\n",
       "      <td>a louer</td>\n",
       "      <td>Rabat</td>\n",
       "      <td>25000.0</td>\n",
       "      <td>4.793980</td>\n",
       "      <td>True</td>\n",
       "    </tr>\n",
       "    <tr>\n",
       "      <th>767</th>\n",
       "      <td>100.000000</td>\n",
       "      <td>2</td>\n",
       "      <td>2</td>\n",
       "      <td>2</td>\n",
       "      <td>Appartement standing 5piece orangeraie</td>\n",
       "      <td>a louer</td>\n",
       "      <td>Rabat</td>\n",
       "      <td>23500.0</td>\n",
       "      <td>4.455872</td>\n",
       "      <td>True</td>\n",
       "    </tr>\n",
       "    <tr>\n",
       "      <th>775</th>\n",
       "      <td>84.000000</td>\n",
       "      <td>2</td>\n",
       "      <td>2</td>\n",
       "      <td>1</td>\n",
       "      <td>Appartement standing neuf a louer Hay riad</td>\n",
       "      <td>a louer</td>\n",
       "      <td>Rabat</td>\n",
       "      <td>20000.0</td>\n",
       "      <td>3.666953</td>\n",
       "      <td>True</td>\n",
       "    </tr>\n",
       "    <tr>\n",
       "      <th>780</th>\n",
       "      <td>120.000000</td>\n",
       "      <td>2</td>\n",
       "      <td>2</td>\n",
       "      <td>1</td>\n",
       "      <td>Rez de jardin standing vide a l orangeraie</td>\n",
       "      <td>a louer</td>\n",
       "      <td>Rabat</td>\n",
       "      <td>23000.0</td>\n",
       "      <td>4.343170</td>\n",
       "      <td>True</td>\n",
       "    </tr>\n",
       "    <tr>\n",
       "      <th>914</th>\n",
       "      <td>97.308802</td>\n",
       "      <td>2</td>\n",
       "      <td>2</td>\n",
       "      <td>1</td>\n",
       "      <td>Appartement meublé à louer 240 m² à Rabat</td>\n",
       "      <td>a louer</td>\n",
       "      <td>Rabat</td>\n",
       "      <td>20000.0</td>\n",
       "      <td>3.666953</td>\n",
       "      <td>True</td>\n",
       "    </tr>\n",
       "    <tr>\n",
       "      <th>937</th>\n",
       "      <td>117.000000</td>\n",
       "      <td>3</td>\n",
       "      <td>2</td>\n",
       "      <td>2</td>\n",
       "      <td>Studio-Appartement-Haut-Standing-Gueliz</td>\n",
       "      <td>a louer</td>\n",
       "      <td>Marrakech</td>\n",
       "      <td>19000.0</td>\n",
       "      <td>3.441548</td>\n",
       "      <td>True</td>\n",
       "    </tr>\n",
       "    <tr>\n",
       "      <th>968</th>\n",
       "      <td>97.308802</td>\n",
       "      <td>2</td>\n",
       "      <td>2</td>\n",
       "      <td>1</td>\n",
       "      <td>Appartement à louer 160 m² à Rabat</td>\n",
       "      <td>a louer</td>\n",
       "      <td>Rabat</td>\n",
       "      <td>18000.0</td>\n",
       "      <td>3.216142</td>\n",
       "      <td>True</td>\n",
       "    </tr>\n",
       "  </tbody>\n",
       "</table>\n",
       "</div>"
      ],
      "text/plain": [
       "           area  chamber  toilete  salon  \\\n",
       "541   97.308802        2        2      1   \n",
       "644   97.308802        2        2      1   \n",
       "719   97.308802        2        2      1   \n",
       "734   89.000000        2        1      1   \n",
       "745  100.000000        4        2      1   \n",
       "767  100.000000        2        2      2   \n",
       "775   84.000000        2        2      1   \n",
       "780  120.000000        2        2      1   \n",
       "914   97.308802        2        2      1   \n",
       "937  117.000000        3        2      2   \n",
       "968   97.308802        2        2      1   \n",
       "\n",
       "                                            title type_de_vente    location  \\\n",
       "541            Appartement à louer 240 m² à Rabat       a louer       Rabat   \n",
       "644  Appartement de 77m très bien placé à l'oasis       a louer  Casablanca   \n",
       "719          appartement standing neuf a Hay riad       a louer       Rabat   \n",
       "734         appartement standing meublé a souissi       a louer       Rabat   \n",
       "745        Appartement standing a louer a souissi       a louer       Rabat   \n",
       "767        Appartement standing 5piece orangeraie       a louer       Rabat   \n",
       "775    Appartement standing neuf a louer Hay riad       a louer       Rabat   \n",
       "780    Rez de jardin standing vide a l orangeraie       a louer       Rabat   \n",
       "914     Appartement meublé à louer 240 m² à Rabat       a louer       Rabat   \n",
       "937       Studio-Appartement-Haut-Standing-Gueliz       a louer   Marrakech   \n",
       "968            Appartement à louer 160 m² à Rabat       a louer       Rabat   \n",
       "\n",
       "     new_price  z_score_new_price  aberrant  \n",
       "541    24000.0           4.568575      True  \n",
       "644    17500.0           3.103440      True  \n",
       "719    21000.0           3.892359      True  \n",
       "734    24000.0           4.568575      True  \n",
       "745    25000.0           4.793980      True  \n",
       "767    23500.0           4.455872      True  \n",
       "775    20000.0           3.666953      True  \n",
       "780    23000.0           4.343170      True  \n",
       "914    20000.0           3.666953      True  \n",
       "937    19000.0           3.441548      True  \n",
       "968    18000.0           3.216142      True  "
      ]
     },
     "execution_count": 328,
     "metadata": {},
     "output_type": "execute_result"
    }
   ],
   "source": [
    "iqr_aberrant_price_louer"
   ]
  },
  {
   "cell_type": "code",
   "execution_count": 329,
   "metadata": {},
   "outputs": [],
   "source": [
    "# Mettre à jour les valeurs de 'new_price' où 'type_de_vente' est 'a louer' et les indices sont dans iqr_aberrant_price_louer.index\n",
    "mask_louer = df_imputed['type_de_vente'] == 'a louer'\n",
    "\n",
    "df_imputed.loc[mask_louer & df_imputed.index.isin(iqr_aberrant_price_louer.index), 'new_price'] = 2500"
   ]
  },
  {
   "cell_type": "code",
   "execution_count": 330,
   "metadata": {},
   "outputs": [
    {
     "data": {
      "text/html": [
       "<div>\n",
       "<style scoped>\n",
       "    .dataframe tbody tr th:only-of-type {\n",
       "        vertical-align: middle;\n",
       "    }\n",
       "\n",
       "    .dataframe tbody tr th {\n",
       "        vertical-align: top;\n",
       "    }\n",
       "\n",
       "    .dataframe thead th {\n",
       "        text-align: right;\n",
       "    }\n",
       "</style>\n",
       "<table border=\"1\" class=\"dataframe\">\n",
       "  <thead>\n",
       "    <tr style=\"text-align: right;\">\n",
       "      <th></th>\n",
       "      <th>area</th>\n",
       "      <th>chamber</th>\n",
       "      <th>toilete</th>\n",
       "      <th>salon</th>\n",
       "      <th>title</th>\n",
       "      <th>type_de_vente</th>\n",
       "      <th>location</th>\n",
       "      <th>new_price</th>\n",
       "    </tr>\n",
       "  </thead>\n",
       "  <tbody>\n",
       "    <tr>\n",
       "      <th>33</th>\n",
       "      <td>97.308802</td>\n",
       "      <td>2</td>\n",
       "      <td>2</td>\n",
       "      <td>1</td>\n",
       "      <td>Appartement haut standing secteur 23</td>\n",
       "      <td>a vendre</td>\n",
       "      <td>Rabat</td>\n",
       "      <td>3400000.0</td>\n",
       "    </tr>\n",
       "    <tr>\n",
       "      <th>57</th>\n",
       "      <td>70.000000</td>\n",
       "      <td>2</td>\n",
       "      <td>2</td>\n",
       "      <td>1</td>\n",
       "      <td>Appartement 127m2 à Les Princesses Casablanca</td>\n",
       "      <td>a vendre</td>\n",
       "      <td>Casablanca</td>\n",
       "      <td>21600000.0</td>\n",
       "    </tr>\n",
       "    <tr>\n",
       "      <th>58</th>\n",
       "      <td>100.000000</td>\n",
       "      <td>4</td>\n",
       "      <td>2</td>\n",
       "      <td>1</td>\n",
       "      <td>Appartement à vendre à GUÉLIZ</td>\n",
       "      <td>a vendre</td>\n",
       "      <td>Marrakech</td>\n",
       "      <td>2600000.0</td>\n",
       "    </tr>\n",
       "    <tr>\n",
       "      <th>67</th>\n",
       "      <td>185.000000</td>\n",
       "      <td>3</td>\n",
       "      <td>1</td>\n",
       "      <td>1</td>\n",
       "      <td>Appartement à vendre 144 m² à Rabat</td>\n",
       "      <td>a vendre</td>\n",
       "      <td>Rabat</td>\n",
       "      <td>3300000.0</td>\n",
       "    </tr>\n",
       "    <tr>\n",
       "      <th>93</th>\n",
       "      <td>110.000000</td>\n",
       "      <td>2</td>\n",
       "      <td>2</td>\n",
       "      <td>1</td>\n",
       "      <td>Appartement à vendre 130 m² à Rabat</td>\n",
       "      <td>a vendre</td>\n",
       "      <td>Rabat</td>\n",
       "      <td>2200000.0</td>\n",
       "    </tr>\n",
       "    <tr>\n",
       "      <th>97</th>\n",
       "      <td>97.308802</td>\n",
       "      <td>2</td>\n",
       "      <td>2</td>\n",
       "      <td>1</td>\n",
       "      <td>Appartement 127m² Gauthier</td>\n",
       "      <td>a vendre</td>\n",
       "      <td>Casablanca</td>\n",
       "      <td>2220000.0</td>\n",
       "    </tr>\n",
       "    <tr>\n",
       "      <th>105</th>\n",
       "      <td>53.000000</td>\n",
       "      <td>2</td>\n",
       "      <td>2</td>\n",
       "      <td>1</td>\n",
       "      <td>appartement à vendre salé Tabriquet</td>\n",
       "      <td>a vendre</td>\n",
       "      <td>Salé</td>\n",
       "      <td>7400000.0</td>\n",
       "    </tr>\n",
       "    <tr>\n",
       "      <th>111</th>\n",
       "      <td>54.000000</td>\n",
       "      <td>2</td>\n",
       "      <td>2</td>\n",
       "      <td>1</td>\n",
       "      <td>Souissi, Rabat Square Eagle Hills Appart à Vendre</td>\n",
       "      <td>a vendre</td>\n",
       "      <td>Rabat</td>\n",
       "      <td>3220000.0</td>\n",
       "    </tr>\n",
       "    <tr>\n",
       "      <th>122</th>\n",
       "      <td>97.308802</td>\n",
       "      <td>2</td>\n",
       "      <td>2</td>\n",
       "      <td>1</td>\n",
       "      <td>appartement à vendre</td>\n",
       "      <td>a vendre</td>\n",
       "      <td>Agadir</td>\n",
       "      <td>28000000.0</td>\n",
       "    </tr>\n",
       "    <tr>\n",
       "      <th>126</th>\n",
       "      <td>200.000000</td>\n",
       "      <td>3</td>\n",
       "      <td>2</td>\n",
       "      <td>1</td>\n",
       "      <td>Grand Appartement à vendre 215 m² 4 ch ville v...</td>\n",
       "      <td>a vendre</td>\n",
       "      <td>Bouskoura</td>\n",
       "      <td>3900000.0</td>\n",
       "    </tr>\n",
       "    <tr>\n",
       "      <th>130</th>\n",
       "      <td>112.000000</td>\n",
       "      <td>3</td>\n",
       "      <td>2</td>\n",
       "      <td>2</td>\n",
       "      <td>Appartement Neuf 150 m²en Vente à Ville verte</td>\n",
       "      <td>a vendre</td>\n",
       "      <td>Bouskoura</td>\n",
       "      <td>2800000.0</td>\n",
       "    </tr>\n",
       "    <tr>\n",
       "      <th>142</th>\n",
       "      <td>97.308802</td>\n",
       "      <td>2</td>\n",
       "      <td>2</td>\n",
       "      <td>1</td>\n",
       "      <td>Appartement 175 m² à centre ville</td>\n",
       "      <td>a vendre</td>\n",
       "      <td>Tanger</td>\n",
       "      <td>2275000.0</td>\n",
       "    </tr>\n",
       "    <tr>\n",
       "      <th>145</th>\n",
       "      <td>97.308802</td>\n",
       "      <td>2</td>\n",
       "      <td>2</td>\n",
       "      <td>1</td>\n",
       "      <td>Appartement à vendre 65 m² à gzenaya</td>\n",
       "      <td>a vendre</td>\n",
       "      <td>Tanger</td>\n",
       "      <td>3800000.0</td>\n",
       "    </tr>\n",
       "    <tr>\n",
       "      <th>167</th>\n",
       "      <td>96.000000</td>\n",
       "      <td>2</td>\n",
       "      <td>2</td>\n",
       "      <td>1</td>\n",
       "      <td>Maison libre à vendre, R plus 3</td>\n",
       "      <td>a vendre</td>\n",
       "      <td>Casablanca</td>\n",
       "      <td>3200000.0</td>\n",
       "    </tr>\n",
       "    <tr>\n",
       "      <th>183</th>\n",
       "      <td>55.000000</td>\n",
       "      <td>2</td>\n",
       "      <td>1</td>\n",
       "      <td>1</td>\n",
       "      <td>Appartement à vendre 127 m² à Marrakech</td>\n",
       "      <td>a vendre</td>\n",
       "      <td>Marrakech</td>\n",
       "      <td>2600000.0</td>\n",
       "    </tr>\n",
       "    <tr>\n",
       "      <th>184</th>\n",
       "      <td>105.000000</td>\n",
       "      <td>3</td>\n",
       "      <td>2</td>\n",
       "      <td>1</td>\n",
       "      <td>Appartement 104 m² à Rabat</td>\n",
       "      <td>a vendre</td>\n",
       "      <td>Rabat</td>\n",
       "      <td>3500000.0</td>\n",
       "    </tr>\n",
       "    <tr>\n",
       "      <th>194</th>\n",
       "      <td>97.308802</td>\n",
       "      <td>2</td>\n",
       "      <td>2</td>\n",
       "      <td>1</td>\n",
       "      <td>1 appartement par étage de 3 chambres</td>\n",
       "      <td>a vendre</td>\n",
       "      <td>Casablanca</td>\n",
       "      <td>2850000.0</td>\n",
       "    </tr>\n",
       "    <tr>\n",
       "      <th>195</th>\n",
       "      <td>97.308802</td>\n",
       "      <td>2</td>\n",
       "      <td>2</td>\n",
       "      <td>1</td>\n",
       "      <td>Appartement à vendre 130 m² à Temara</td>\n",
       "      <td>a vendre</td>\n",
       "      <td>Temara</td>\n",
       "      <td>2650000.0</td>\n",
       "    </tr>\n",
       "    <tr>\n",
       "      <th>212</th>\n",
       "      <td>97.308802</td>\n",
       "      <td>2</td>\n",
       "      <td>2</td>\n",
       "      <td>1</td>\n",
       "      <td>Appartement à vendre 98 m² à Agadir</td>\n",
       "      <td>a vendre</td>\n",
       "      <td>Agadir</td>\n",
       "      <td>2400000.0</td>\n",
       "    </tr>\n",
       "    <tr>\n",
       "      <th>218</th>\n",
       "      <td>140.000000</td>\n",
       "      <td>2</td>\n",
       "      <td>2</td>\n",
       "      <td>2</td>\n",
       "      <td>appartement 130m² à Hayriad envente</td>\n",
       "      <td>a vendre</td>\n",
       "      <td>Rabat</td>\n",
       "      <td>2240000.0</td>\n",
       "    </tr>\n",
       "    <tr>\n",
       "      <th>240</th>\n",
       "      <td>80.000000</td>\n",
       "      <td>3</td>\n",
       "      <td>2</td>\n",
       "      <td>1</td>\n",
       "      <td>Appartement à vendre 121 m² à Casablanca</td>\n",
       "      <td>a vendre</td>\n",
       "      <td>Casablanca</td>\n",
       "      <td>2250000.0</td>\n",
       "    </tr>\n",
       "    <tr>\n",
       "      <th>241</th>\n",
       "      <td>140.000000</td>\n",
       "      <td>2</td>\n",
       "      <td>2</td>\n",
       "      <td>1</td>\n",
       "      <td>8089-Vente Appt à Bouznika Plage Oued Cherrat ...</td>\n",
       "      <td>a vendre</td>\n",
       "      <td>Casablanca</td>\n",
       "      <td>3000000.0</td>\n",
       "    </tr>\n",
       "    <tr>\n",
       "      <th>259</th>\n",
       "      <td>70.000000</td>\n",
       "      <td>2</td>\n",
       "      <td>2</td>\n",
       "      <td>1</td>\n",
       "      <td>Appartement à vendre 215 m² à Rabat</td>\n",
       "      <td>a vendre</td>\n",
       "      <td>Rabat</td>\n",
       "      <td>5200000.0</td>\n",
       "    </tr>\n",
       "    <tr>\n",
       "      <th>264</th>\n",
       "      <td>97.308802</td>\n",
       "      <td>2</td>\n",
       "      <td>2</td>\n",
       "      <td>1</td>\n",
       "      <td>35889-Vente Appt à Casablanca Lusitania de 407 m²</td>\n",
       "      <td>a vendre</td>\n",
       "      <td>Casablanca</td>\n",
       "      <td>4100000.0</td>\n",
       "    </tr>\n",
       "    <tr>\n",
       "      <th>269</th>\n",
       "      <td>63.000000</td>\n",
       "      <td>2</td>\n",
       "      <td>2</td>\n",
       "      <td>1</td>\n",
       "      <td>Penthouse standing en vente a souissi</td>\n",
       "      <td>a vendre</td>\n",
       "      <td>Rabat</td>\n",
       "      <td>6500000.0</td>\n",
       "    </tr>\n",
       "    <tr>\n",
       "      <th>271</th>\n",
       "      <td>76.000000</td>\n",
       "      <td>2</td>\n",
       "      <td>2</td>\n",
       "      <td>1</td>\n",
       "      <td>BAISSE DE PRIX Petit Immeuble R2 à Vendre</td>\n",
       "      <td>a vendre</td>\n",
       "      <td>Rabat</td>\n",
       "      <td>2650000.0</td>\n",
       "    </tr>\n",
       "    <tr>\n",
       "      <th>291</th>\n",
       "      <td>80.000000</td>\n",
       "      <td>2</td>\n",
       "      <td>2</td>\n",
       "      <td>1</td>\n",
       "      <td>appartement meuble a vendre quartier moudjahidine</td>\n",
       "      <td>a vendre</td>\n",
       "      <td>Tanger</td>\n",
       "      <td>2400000.0</td>\n",
       "    </tr>\n",
       "    <tr>\n",
       "      <th>302</th>\n",
       "      <td>79.000000</td>\n",
       "      <td>2</td>\n",
       "      <td>2</td>\n",
       "      <td>1</td>\n",
       "      <td>Restaurant Neuf 130m2 tout équipé AFFAIRE À SA...</td>\n",
       "      <td>a vendre</td>\n",
       "      <td>Martil</td>\n",
       "      <td>4500000.0</td>\n",
       "    </tr>\n",
       "    <tr>\n",
       "      <th>306</th>\n",
       "      <td>95.000000</td>\n",
       "      <td>2</td>\n",
       "      <td>2</td>\n",
       "      <td>1</td>\n",
       "      <td>Appartement à vendre 160 m² à Casablanca Marina</td>\n",
       "      <td>a vendre</td>\n",
       "      <td>Casablanca</td>\n",
       "      <td>3700000.0</td>\n",
       "    </tr>\n",
       "    <tr>\n",
       "      <th>319</th>\n",
       "      <td>97.308802</td>\n",
       "      <td>2</td>\n",
       "      <td>2</td>\n",
       "      <td>1</td>\n",
       "      <td>Appartement à vendre 142 m² à Casablanca</td>\n",
       "      <td>a vendre</td>\n",
       "      <td>Casablanca</td>\n",
       "      <td>6000000.0</td>\n",
       "    </tr>\n",
       "    <tr>\n",
       "      <th>321</th>\n",
       "      <td>59.000000</td>\n",
       "      <td>2</td>\n",
       "      <td>1</td>\n",
       "      <td>1</td>\n",
       "      <td>Appartement dernier étage sans vis-à-vis</td>\n",
       "      <td>a vendre</td>\n",
       "      <td>Casablanca</td>\n",
       "      <td>3700000.0</td>\n",
       "    </tr>\n",
       "    <tr>\n",
       "      <th>360</th>\n",
       "      <td>87.000000</td>\n",
       "      <td>2</td>\n",
       "      <td>2</td>\n",
       "      <td>1</td>\n",
       "      <td>Marina Casablanca Appartement à vendre 115 m² à</td>\n",
       "      <td>a vendre</td>\n",
       "      <td>Casablanca</td>\n",
       "      <td>3000000.0</td>\n",
       "    </tr>\n",
       "    <tr>\n",
       "      <th>373</th>\n",
       "      <td>57.000000</td>\n",
       "      <td>2</td>\n",
       "      <td>1</td>\n",
       "      <td>1</td>\n",
       "      <td>Allal Ben Abdellah-Appart rénové en vente .</td>\n",
       "      <td>a vendre</td>\n",
       "      <td>Rabat</td>\n",
       "      <td>2200000.0</td>\n",
       "    </tr>\n",
       "    <tr>\n",
       "      <th>379</th>\n",
       "      <td>120.000000</td>\n",
       "      <td>2</td>\n",
       "      <td>2</td>\n",
       "      <td>1</td>\n",
       "      <td>Appartement à vendre 147 m² REMIS A NEUF à RACINE</td>\n",
       "      <td>a vendre</td>\n",
       "      <td>Casablanca</td>\n",
       "      <td>2900000.0</td>\n",
       "    </tr>\n",
       "    <tr>\n",
       "      <th>381</th>\n",
       "      <td>97.308802</td>\n",
       "      <td>2</td>\n",
       "      <td>2</td>\n",
       "      <td>1</td>\n",
       "      <td>Appartement luxe Vue Mer à vendre Tanger Malabata</td>\n",
       "      <td>a vendre</td>\n",
       "      <td>Tanger</td>\n",
       "      <td>4800000.0</td>\n",
       "    </tr>\n",
       "    <tr>\n",
       "      <th>384</th>\n",
       "      <td>68.000000</td>\n",
       "      <td>2</td>\n",
       "      <td>2</td>\n",
       "      <td>1</td>\n",
       "      <td>Appartement à vendre 247 m² à Marrakech</td>\n",
       "      <td>a vendre</td>\n",
       "      <td>Marrakech</td>\n",
       "      <td>2600000.0</td>\n",
       "    </tr>\n",
       "    <tr>\n",
       "      <th>418</th>\n",
       "      <td>85.000000</td>\n",
       "      <td>3</td>\n",
       "      <td>2</td>\n",
       "      <td>1</td>\n",
       "      <td>Rabat hay riad secteur 23 école belge</td>\n",
       "      <td>a vendre</td>\n",
       "      <td>Rabat</td>\n",
       "      <td>2200000.0</td>\n",
       "    </tr>\n",
       "    <tr>\n",
       "      <th>435</th>\n",
       "      <td>73.000000</td>\n",
       "      <td>2</td>\n",
       "      <td>1</td>\n",
       "      <td>2</td>\n",
       "      <td>Bel Appartement Cœur Gueliz</td>\n",
       "      <td>a vendre</td>\n",
       "      <td>Marrakech</td>\n",
       "      <td>2900000.0</td>\n",
       "    </tr>\n",
       "  </tbody>\n",
       "</table>\n",
       "</div>"
      ],
      "text/plain": [
       "           area  chamber  toilete  salon  \\\n",
       "33    97.308802        2        2      1   \n",
       "57    70.000000        2        2      1   \n",
       "58   100.000000        4        2      1   \n",
       "67   185.000000        3        1      1   \n",
       "93   110.000000        2        2      1   \n",
       "97    97.308802        2        2      1   \n",
       "105   53.000000        2        2      1   \n",
       "111   54.000000        2        2      1   \n",
       "122   97.308802        2        2      1   \n",
       "126  200.000000        3        2      1   \n",
       "130  112.000000        3        2      2   \n",
       "142   97.308802        2        2      1   \n",
       "145   97.308802        2        2      1   \n",
       "167   96.000000        2        2      1   \n",
       "183   55.000000        2        1      1   \n",
       "184  105.000000        3        2      1   \n",
       "194   97.308802        2        2      1   \n",
       "195   97.308802        2        2      1   \n",
       "212   97.308802        2        2      1   \n",
       "218  140.000000        2        2      2   \n",
       "240   80.000000        3        2      1   \n",
       "241  140.000000        2        2      1   \n",
       "259   70.000000        2        2      1   \n",
       "264   97.308802        2        2      1   \n",
       "269   63.000000        2        2      1   \n",
       "271   76.000000        2        2      1   \n",
       "291   80.000000        2        2      1   \n",
       "302   79.000000        2        2      1   \n",
       "306   95.000000        2        2      1   \n",
       "319   97.308802        2        2      1   \n",
       "321   59.000000        2        1      1   \n",
       "360   87.000000        2        2      1   \n",
       "373   57.000000        2        1      1   \n",
       "379  120.000000        2        2      1   \n",
       "381   97.308802        2        2      1   \n",
       "384   68.000000        2        2      1   \n",
       "418   85.000000        3        2      1   \n",
       "435   73.000000        2        1      2   \n",
       "\n",
       "                                                 title type_de_vente  \\\n",
       "33                Appartement haut standing secteur 23      a vendre   \n",
       "57       Appartement 127m2 à Les Princesses Casablanca      a vendre   \n",
       "58                       Appartement à vendre à GUÉLIZ      a vendre   \n",
       "67                 Appartement à vendre 144 m² à Rabat      a vendre   \n",
       "93                 Appartement à vendre 130 m² à Rabat      a vendre   \n",
       "97                          Appartement 127m² Gauthier      a vendre   \n",
       "105                appartement à vendre salé Tabriquet      a vendre   \n",
       "111  Souissi, Rabat Square Eagle Hills Appart à Vendre      a vendre   \n",
       "122                               appartement à vendre      a vendre   \n",
       "126  Grand Appartement à vendre 215 m² 4 ch ville v...      a vendre   \n",
       "130      Appartement Neuf 150 m²en Vente à Ville verte      a vendre   \n",
       "142                  Appartement 175 m² à centre ville      a vendre   \n",
       "145               Appartement à vendre 65 m² à gzenaya      a vendre   \n",
       "167                    Maison libre à vendre, R plus 3      a vendre   \n",
       "183            Appartement à vendre 127 m² à Marrakech      a vendre   \n",
       "184                         Appartement 104 m² à Rabat      a vendre   \n",
       "194              1 appartement par étage de 3 chambres      a vendre   \n",
       "195               Appartement à vendre 130 m² à Temara      a vendre   \n",
       "212                Appartement à vendre 98 m² à Agadir      a vendre   \n",
       "218                appartement 130m² à Hayriad envente      a vendre   \n",
       "240           Appartement à vendre 121 m² à Casablanca      a vendre   \n",
       "241  8089-Vente Appt à Bouznika Plage Oued Cherrat ...      a vendre   \n",
       "259                Appartement à vendre 215 m² à Rabat      a vendre   \n",
       "264  35889-Vente Appt à Casablanca Lusitania de 407 m²      a vendre   \n",
       "269              Penthouse standing en vente a souissi      a vendre   \n",
       "271          BAISSE DE PRIX Petit Immeuble R2 à Vendre      a vendre   \n",
       "291  appartement meuble a vendre quartier moudjahidine      a vendre   \n",
       "302  Restaurant Neuf 130m2 tout équipé AFFAIRE À SA...      a vendre   \n",
       "306    Appartement à vendre 160 m² à Casablanca Marina      a vendre   \n",
       "319           Appartement à vendre 142 m² à Casablanca      a vendre   \n",
       "321           Appartement dernier étage sans vis-à-vis      a vendre   \n",
       "360    Marina Casablanca Appartement à vendre 115 m² à      a vendre   \n",
       "373        Allal Ben Abdellah-Appart rénové en vente .      a vendre   \n",
       "379  Appartement à vendre 147 m² REMIS A NEUF à RACINE      a vendre   \n",
       "381  Appartement luxe Vue Mer à vendre Tanger Malabata      a vendre   \n",
       "384            Appartement à vendre 247 m² à Marrakech      a vendre   \n",
       "418              Rabat hay riad secteur 23 école belge      a vendre   \n",
       "435                        Bel Appartement Cœur Gueliz      a vendre   \n",
       "\n",
       "       location   new_price  \n",
       "33        Rabat   3400000.0  \n",
       "57   Casablanca  21600000.0  \n",
       "58    Marrakech   2600000.0  \n",
       "67        Rabat   3300000.0  \n",
       "93        Rabat   2200000.0  \n",
       "97   Casablanca   2220000.0  \n",
       "105        Salé   7400000.0  \n",
       "111       Rabat   3220000.0  \n",
       "122      Agadir  28000000.0  \n",
       "126   Bouskoura   3900000.0  \n",
       "130   Bouskoura   2800000.0  \n",
       "142      Tanger   2275000.0  \n",
       "145      Tanger   3800000.0  \n",
       "167  Casablanca   3200000.0  \n",
       "183   Marrakech   2600000.0  \n",
       "184       Rabat   3500000.0  \n",
       "194  Casablanca   2850000.0  \n",
       "195      Temara   2650000.0  \n",
       "212      Agadir   2400000.0  \n",
       "218       Rabat   2240000.0  \n",
       "240  Casablanca   2250000.0  \n",
       "241  Casablanca   3000000.0  \n",
       "259       Rabat   5200000.0  \n",
       "264  Casablanca   4100000.0  \n",
       "269       Rabat   6500000.0  \n",
       "271       Rabat   2650000.0  \n",
       "291      Tanger   2400000.0  \n",
       "302      Martil   4500000.0  \n",
       "306  Casablanca   3700000.0  \n",
       "319  Casablanca   6000000.0  \n",
       "321  Casablanca   3700000.0  \n",
       "360  Casablanca   3000000.0  \n",
       "373       Rabat   2200000.0  \n",
       "379  Casablanca   2900000.0  \n",
       "381      Tanger   4800000.0  \n",
       "384   Marrakech   2600000.0  \n",
       "418       Rabat   2200000.0  \n",
       "435   Marrakech   2900000.0  "
      ]
     },
     "execution_count": 330,
     "metadata": {},
     "output_type": "execute_result"
    }
   ],
   "source": [
    "iqr_aberrant_price_vendre"
   ]
  },
  {
   "cell_type": "code",
   "execution_count": 331,
   "metadata": {},
   "outputs": [
    {
     "name": "stdout",
     "output_type": "stream",
     "text": [
      "-7375.0\n",
      "13225.0\n"
     ]
    },
    {
     "data": {
      "image/png": "[encoded data removed]",
      "text/plain": [
       "<Figure size 800x600 with 1 Axes>"
      ]
     },
     "metadata": {},
     "output_type": "display_data"
    }
   ],
   "source": [
    "iqr_aberrant_price_louer = detecter_avec_IQR(df_imputed[df_imputed['type_de_vente']=='a louer'],'new_price')"
   ]
  },
  {
   "cell_type": "code",
   "execution_count": 332,
   "metadata": {},
   "outputs": [
    {
     "data": {
      "text/plain": [
       "(10, 8)"
      ]
     },
     "execution_count": 332,
     "metadata": {},
     "output_type": "execute_result"
    }
   ],
   "source": [
    "iqr_aberrant_price_louer.shape"
   ]
  },
  {
   "cell_type": "code",
   "execution_count": 333,
   "metadata": {},
   "outputs": [
    {
     "data": {
      "text/plain": [
       "np.float64(2300.0)"
      ]
     },
     "execution_count": 333,
     "metadata": {},
     "output_type": "execute_result"
    }
   ],
   "source": [
    "df_imputed['new_price'][df_imputed['type_de_vente']=='a louer'].median()"
   ]
  },
  {
   "cell_type": "code",
   "execution_count": 334,
   "metadata": {},
   "outputs": [],
   "source": [
    "# Mettre à jour les valeurs de 'new_price' où 'type_de_vente' est 'a louer' et les indices sont dans iqr_aberrant_price_louer.index\n",
    "mask_louer = df_imputed['type_de_vente'] == 'a louer'\n",
    "\n",
    "df_imputed.loc[mask_louer & df_imputed.index.isin(iqr_aberrant_price_louer.index), 'new_price'] = 2500"
   ]
  },
  {
   "cell_type": "code",
   "execution_count": 335,
   "metadata": {},
   "outputs": [
    {
     "data": {
      "text/plain": [
       "np.float64(28000000.0)"
      ]
     },
     "execution_count": 335,
     "metadata": {},
     "output_type": "execute_result"
    }
   ],
   "source": [
    "df_imputed['new_price'].max()"
   ]
  },
  {
   "cell_type": "markdown",
   "metadata": {},
   "source": [
    "Standardisation et Normalisation"
   ]
  },
  {
   "cell_type": "code",
   "execution_count": 336,
   "metadata": {},
   "outputs": [
    {
     "name": "stdout",
     "output_type": "stream",
     "text": [
      "                                               title         price  \\\n",
      "0    Appartement 84 m²Al Baraka à Dcheïra El Jihadia    701 720 DH   \n",
      "1            Appartement à vendre 79 m² à Casablanca    580 000 DH   \n",
      "2       Appart. 79 m2 Angle Chouka Omarya-Hay Chrifa    760 000 DH   \n",
      "3  Appart. Haut Stand 104 m2 Résid. Fermée Califo...  1 560 000 DH   \n",
      "4             CMN-MA-1136 - Bureau à vendre à Maârif  1 100 000 DH   \n",
      "\n",
      "             location type_de_vente  salon  chamber  toilete   area  \\\n",
      "0  Dcheïra El Jihadia      a vendre    1.0      2.0      2.0   90.0   \n",
      "1          Casablanca      a vendre    1.0      2.0      2.0   50.0   \n",
      "2          Casablanca      a vendre    1.0      2.0      2.0  150.0   \n",
      "3          Casablanca      a vendre    1.0      2.0      2.0   56.0   \n",
      "4          Casablanca      a vendre    1.0      3.0      2.0   84.0   \n",
      "\n",
      "                                                link  new_price  \\\n",
      "0  https://www.avito.ma/fr/dche%C3%AFra_el_jihadi...   701720.0   \n",
      "1  https://www.avito.ma/fr/sidi_moumen/appartemen...   580000.0   \n",
      "2  https://www.avito.ma/fr/a%C3%AFn_chock/apparte...   760000.0   \n",
      "3  https://www.avito.ma/fr/californie/appartement...  1560000.0   \n",
      "4  https://www.avito.ma/fr/maarif/bureaux/CMN_MA_...  1100000.0   \n",
      "\n",
      "   new_price_standariser  area_standariser  \n",
      "0               0.138132         -0.144840  \n",
      "1               0.045834         -1.360754  \n",
      "2               0.182324          1.679030  \n",
      "3               0.788945         -1.178367  \n",
      "4               0.440138         -0.327227  \n",
      "         area  chamber  toilete  salon  \\\n",
      "0   97.308802        2        2      1   \n",
      "1   50.000000        2        1      1   \n",
      "2  150.000000        2        2      1   \n",
      "3   56.000000        2        1      1   \n",
      "4   84.000000        3        2      1   \n",
      "\n",
      "                                               title type_de_vente  \\\n",
      "0    Appartement 84 m²Al Baraka à Dcheïra El Jihadia      a vendre   \n",
      "1            Appartement à vendre 79 m² à Casablanca      a vendre   \n",
      "2       Appart. 79 m2 Angle Chouka Omarya-Hay Chrifa      a vendre   \n",
      "3  Appart. Haut Stand 104 m2 Résid. Fermée Califo...      a vendre   \n",
      "4             CMN-MA-1136 - Bureau à vendre à Maârif      a vendre   \n",
      "\n",
      "             location  new_price  new_price_standariser  area_standariser  \n",
      "0  Dcheïra El Jihadia   701720.0               0.138358         -0.001118  \n",
      "1          Casablanca   580000.0               0.046069         -1.444905  \n",
      "2          Casablanca   760000.0               0.182546          1.606930  \n",
      "3          Casablanca  1560000.0               0.789111         -1.261795  \n",
      "4          Casablanca  1100000.0               0.440336         -0.407281  \n"
     ]
    }
   ],
   "source": [
    "from sklearn.preprocessing import StandardScaler\n",
    "import pandas as pd\n",
    "\n",
    "# Colonnes à standardiser\n",
    "colonnes_a_standardiser = ['new_price', 'area']\n",
    "\n",
    "# Appliquer la standardisation sur les colonnes sélectionnées\n",
    "scaler = StandardScaler()\n",
    "df_combined[['new_price_standariser', 'area_standariser']] = scaler.fit_transform(df_combined[colonnes_a_standardiser])\n",
    "df_imputed[['new_price_standariser', 'area_standariser']] = scaler.fit_transform(df_imputed[colonnes_a_standardiser])\n",
    "\n",
    "print(df_combined.head())\n",
    "print(df_imputed.head())\n"
   ]
  },
  {
   "cell_type": "markdown",
   "metadata": {},
   "source": [
    "la distribution des classes(SMOT)"
   ]
  },
  {
   "cell_type": "code",
   "execution_count": 337,
   "metadata": {},
   "outputs": [
    {
     "data": {
      "text/plain": [
       "type_de_vente\n",
       "a louer     625\n",
       "a vendre    438\n",
       "Name: count, dtype: int64"
      ]
     },
     "execution_count": 337,
     "metadata": {},
     "output_type": "execute_result"
    }
   ],
   "source": [
    "df_combined['type_de_vente'].value_counts()\n",
    "\n"
   ]
  },
  {
   "cell_type": "code",
   "execution_count": 338,
   "metadata": {},
   "outputs": [
    {
     "data": {
      "text/plain": [
       "type_de_vente\n",
       "a louer     625\n",
       "a vendre    438\n",
       "Name: count, dtype: int64"
      ]
     },
     "execution_count": 338,
     "metadata": {},
     "output_type": "execute_result"
    }
   ],
   "source": [
    "df_imputed['type_de_vente'].value_counts()"
   ]
  },
  {
   "cell_type": "code",
   "execution_count": 339,
   "metadata": {},
   "outputs": [],
   "source": [
    "from sklearn.preprocessing import OrdinalEncoder\n",
    "import pandas as pd\n",
    "\n",
    "\n",
    "encoder = OrdinalEncoder()\n",
    "\n",
    "df_combined['location_encoded'] = encoder.fit_transform(df_combined[['location']])\n",
    "df_imputed['location_encoded'] = encoder.fit_transform(df_imputed[['location']])\n"
   ]
  },
  {
   "cell_type": "code",
   "execution_count": 340,
   "metadata": {},
   "outputs": [
    {
     "data": {
      "text/plain": [
       "np.int64(1)"
      ]
     },
     "execution_count": 340,
     "metadata": {},
     "output_type": "execute_result"
    }
   ],
   "source": [
    "df_combined['location_encoded'].isna().sum()"
   ]
  },
  {
   "cell_type": "code",
   "execution_count": 341,
   "metadata": {},
   "outputs": [
    {
     "data": {
      "text/plain": [
       "np.int64(1)"
      ]
     },
     "execution_count": 341,
     "metadata": {},
     "output_type": "execute_result"
    }
   ],
   "source": [
    "df_imputed['location_encoded'].isna().sum()"
   ]
  },
  {
   "cell_type": "code",
   "execution_count": 342,
   "metadata": {},
   "outputs": [],
   "source": [
    "df_combined= df_combined.dropna(subset=['location_encoded'])\n",
    "df_imputed= df_imputed.dropna(subset=['location_encoded'])\n"
   ]
  },
  {
   "cell_type": "code",
   "execution_count": 343,
   "metadata": {},
   "outputs": [
    {
     "data": {
      "text/plain": [
       "(54,)"
      ]
     },
     "execution_count": 343,
     "metadata": {},
     "output_type": "execute_result"
    }
   ],
   "source": [
    "df_combined.location.unique().shape"
   ]
  },
  {
   "cell_type": "code",
   "execution_count": 344,
   "metadata": {},
   "outputs": [
    {
     "data": {
      "text/plain": [
       "(54,)"
      ]
     },
     "execution_count": 344,
     "metadata": {},
     "output_type": "execute_result"
    }
   ],
   "source": [
    "df_combined.location_encoded.unique().shape"
   ]
  },
  {
   "cell_type": "code",
   "execution_count": 345,
   "metadata": {},
   "outputs": [],
   "source": [
    "from imblearn.over_sampling import SMOTE\n",
    "\n",
    "# Sélectionner les caractéristiques et la classe cible\n",
    "X = df_combined[['new_price', 'salon', 'chamber', 'toilete', 'area','location_encoded','new_price_standariser','area_standariser']]\n",
    "y = df_combined['type_de_vente']\n",
    "\n",
    "X = df_imputed[['new_price', 'salon', 'chamber', 'toilete', 'area','location_encoded','new_price_standariser','area_standariser']]\n",
    "y = df_imputed['type_de_vente']\n",
    "\n",
    "\n",
    "# Appliquer SMOTE pour équilibrer les classes\n",
    "smote = SMOTE(sampling_strategy='auto')  # 'auto' équilibre les classes à parts égales\n",
    "X_resampled, y_resampled = smote.fit_resample(X, y)\n",
    "X_resampled_knn, y_resampled_knn = smote.fit_resample(X, y)"
   ]
  },
  {
   "cell_type": "code",
   "execution_count": 346,
   "metadata": {},
   "outputs": [],
   "source": [
    "X_resampled['location_encoded'] = X_resampled['location_encoded'].apply(lambda x:round(x))\n",
    "X_resampled_knn['location_encoded'] = X_resampled_knn['location_encoded'].apply(lambda x:round(x))"
   ]
  },
  {
   "cell_type": "code",
   "execution_count": 347,
   "metadata": {},
   "outputs": [],
   "source": [
    "X_resampled['chamber'] = X_resampled['chamber'].apply(lambda x:round(x))\n",
    "X_resampled['salon'] = X_resampled['salon'].apply(lambda x:round(x))\n",
    "X_resampled['toilete'] = X_resampled['toilete'].apply(lambda x:round(x))"
   ]
  },
  {
   "cell_type": "code",
   "execution_count": 348,
   "metadata": {},
   "outputs": [],
   "source": [
    "X_resampled_knn['chamber'] = X_resampled_knn['chamber'].apply(lambda x:round(x))\n",
    "X_resampled_knn['salon'] = X_resampled_knn['salon'].apply(lambda x:round(x))\n",
    "X_resampled_knn['toilete'] = X_resampled_knn['toilete'].apply(lambda x:round(x))"
   ]
  },
  {
   "cell_type": "code",
   "execution_count": 349,
   "metadata": {},
   "outputs": [
    {
     "data": {
      "text/plain": [
       "True"
      ]
     },
     "execution_count": 349,
     "metadata": {},
     "output_type": "execute_result"
    }
   ],
   "source": [
    "set(X_resampled.location_encoded.unique())==set(df_combined.location_encoded.unique())"
   ]
  },
  {
   "cell_type": "code",
   "execution_count": 350,
   "metadata": {},
   "outputs": [
    {
     "data": {
      "text/plain": [
       "True"
      ]
     },
     "execution_count": 350,
     "metadata": {},
     "output_type": "execute_result"
    }
   ],
   "source": [
    "set(X_resampled_knn.location_encoded.unique())==set(df_combined.location_encoded.unique())"
   ]
  },
  {
   "cell_type": "code",
   "execution_count": 351,
   "metadata": {},
   "outputs": [
    {
     "data": {
      "text/plain": [
       "type_de_vente\n",
       "a vendre    625\n",
       "a louer     625\n",
       "Name: count, dtype: int64"
      ]
     },
     "execution_count": 351,
     "metadata": {},
     "output_type": "execute_result"
    }
   ],
   "source": [
    "y_resampled.value_counts()"
   ]
  },
  {
   "cell_type": "code",
   "execution_count": 352,
   "metadata": {},
   "outputs": [
    {
     "data": {
      "text/html": [
       "<div>\n",
       "<style scoped>\n",
       "    .dataframe tbody tr th:only-of-type {\n",
       "        vertical-align: middle;\n",
       "    }\n",
       "\n",
       "    .dataframe tbody tr th {\n",
       "        vertical-align: top;\n",
       "    }\n",
       "\n",
       "    .dataframe thead th {\n",
       "        text-align: right;\n",
       "    }\n",
       "</style>\n",
       "<table border=\"1\" class=\"dataframe\">\n",
       "  <thead>\n",
       "    <tr style=\"text-align: right;\">\n",
       "      <th></th>\n",
       "      <th>new_price</th>\n",
       "      <th>salon</th>\n",
       "      <th>chamber</th>\n",
       "      <th>toilete</th>\n",
       "      <th>area</th>\n",
       "      <th>location_encoded</th>\n",
       "      <th>new_price_standariser</th>\n",
       "      <th>area_standariser</th>\n",
       "    </tr>\n",
       "  </thead>\n",
       "  <tbody>\n",
       "    <tr>\n",
       "      <th>0</th>\n",
       "      <td>7.017200e+05</td>\n",
       "      <td>1</td>\n",
       "      <td>2</td>\n",
       "      <td>2</td>\n",
       "      <td>97.308802</td>\n",
       "      <td>15</td>\n",
       "      <td>0.138358</td>\n",
       "      <td>-0.001118</td>\n",
       "    </tr>\n",
       "    <tr>\n",
       "      <th>1</th>\n",
       "      <td>5.800000e+05</td>\n",
       "      <td>1</td>\n",
       "      <td>2</td>\n",
       "      <td>1</td>\n",
       "      <td>50.000000</td>\n",
       "      <td>11</td>\n",
       "      <td>0.046069</td>\n",
       "      <td>-1.444905</td>\n",
       "    </tr>\n",
       "    <tr>\n",
       "      <th>2</th>\n",
       "      <td>7.600000e+05</td>\n",
       "      <td>1</td>\n",
       "      <td>2</td>\n",
       "      <td>2</td>\n",
       "      <td>150.000000</td>\n",
       "      <td>11</td>\n",
       "      <td>0.182546</td>\n",
       "      <td>1.606930</td>\n",
       "    </tr>\n",
       "    <tr>\n",
       "      <th>3</th>\n",
       "      <td>1.560000e+06</td>\n",
       "      <td>1</td>\n",
       "      <td>2</td>\n",
       "      <td>1</td>\n",
       "      <td>56.000000</td>\n",
       "      <td>11</td>\n",
       "      <td>0.789111</td>\n",
       "      <td>-1.261795</td>\n",
       "    </tr>\n",
       "    <tr>\n",
       "      <th>4</th>\n",
       "      <td>1.100000e+06</td>\n",
       "      <td>1</td>\n",
       "      <td>3</td>\n",
       "      <td>2</td>\n",
       "      <td>84.000000</td>\n",
       "      <td>11</td>\n",
       "      <td>0.440336</td>\n",
       "      <td>-0.407281</td>\n",
       "    </tr>\n",
       "    <tr>\n",
       "      <th>...</th>\n",
       "      <td>...</td>\n",
       "      <td>...</td>\n",
       "      <td>...</td>\n",
       "      <td>...</td>\n",
       "      <td>...</td>\n",
       "      <td>...</td>\n",
       "      <td>...</td>\n",
       "      <td>...</td>\n",
       "    </tr>\n",
       "    <tr>\n",
       "      <th>1245</th>\n",
       "      <td>9.672000e+05</td>\n",
       "      <td>1</td>\n",
       "      <td>2</td>\n",
       "      <td>1</td>\n",
       "      <td>69.106012</td>\n",
       "      <td>5</td>\n",
       "      <td>0.339646</td>\n",
       "      <td>-0.861821</td>\n",
       "    </tr>\n",
       "    <tr>\n",
       "      <th>1246</th>\n",
       "      <td>3.852556e+05</td>\n",
       "      <td>1</td>\n",
       "      <td>2</td>\n",
       "      <td>1</td>\n",
       "      <td>65.153362</td>\n",
       "      <td>24</td>\n",
       "      <td>-0.101587</td>\n",
       "      <td>-0.982449</td>\n",
       "    </tr>\n",
       "    <tr>\n",
       "      <th>1247</th>\n",
       "      <td>1.449397e+06</td>\n",
       "      <td>1</td>\n",
       "      <td>1</td>\n",
       "      <td>1</td>\n",
       "      <td>66.567784</td>\n",
       "      <td>11</td>\n",
       "      <td>0.705251</td>\n",
       "      <td>-0.939284</td>\n",
       "    </tr>\n",
       "    <tr>\n",
       "      <th>1248</th>\n",
       "      <td>2.423919e+05</td>\n",
       "      <td>1</td>\n",
       "      <td>2</td>\n",
       "      <td>1</td>\n",
       "      <td>88.206057</td>\n",
       "      <td>5</td>\n",
       "      <td>-0.209907</td>\n",
       "      <td>-0.278919</td>\n",
       "    </tr>\n",
       "    <tr>\n",
       "      <th>1249</th>\n",
       "      <td>1.540253e+06</td>\n",
       "      <td>1</td>\n",
       "      <td>2</td>\n",
       "      <td>2</td>\n",
       "      <td>97.308802</td>\n",
       "      <td>11</td>\n",
       "      <td>0.774139</td>\n",
       "      <td>-0.001118</td>\n",
       "    </tr>\n",
       "  </tbody>\n",
       "</table>\n",
       "<p>1250 rows × 8 columns</p>\n",
       "</div>"
      ],
      "text/plain": [
       "         new_price  salon  chamber  toilete        area  location_encoded  \\\n",
       "0     7.017200e+05      1        2        2   97.308802                15   \n",
       "1     5.800000e+05      1        2        1   50.000000                11   \n",
       "2     7.600000e+05      1        2        2  150.000000                11   \n",
       "3     1.560000e+06      1        2        1   56.000000                11   \n",
       "4     1.100000e+06      1        3        2   84.000000                11   \n",
       "...            ...    ...      ...      ...         ...               ...   \n",
       "1245  9.672000e+05      1        2        1   69.106012                 5   \n",
       "1246  3.852556e+05      1        2        1   65.153362                24   \n",
       "1247  1.449397e+06      1        1        1   66.567784                11   \n",
       "1248  2.423919e+05      1        2        1   88.206057                 5   \n",
       "1249  1.540253e+06      1        2        2   97.308802                11   \n",
       "\n",
       "      new_price_standariser  area_standariser  \n",
       "0                  0.138358         -0.001118  \n",
       "1                  0.046069         -1.444905  \n",
       "2                  0.182546          1.606930  \n",
       "3                  0.789111         -1.261795  \n",
       "4                  0.440336         -0.407281  \n",
       "...                     ...               ...  \n",
       "1245               0.339646         -0.861821  \n",
       "1246              -0.101587         -0.982449  \n",
       "1247               0.705251         -0.939284  \n",
       "1248              -0.209907         -0.278919  \n",
       "1249               0.774139         -0.001118  \n",
       "\n",
       "[1250 rows x 8 columns]"
      ]
     },
     "execution_count": 352,
     "metadata": {},
     "output_type": "execute_result"
    }
   ],
   "source": [
    "X_resampled"
   ]
  },
  {
   "cell_type": "code",
   "execution_count": 353,
   "metadata": {},
   "outputs": [],
   "source": [
    "X_resampled['type_de_vente'] = y_resampled"
   ]
  },
  {
   "cell_type": "code",
   "execution_count": 354,
   "metadata": {},
   "outputs": [],
   "source": [
    "X_resampled_knn['type_de_vente'] = y_resampled_knn"
   ]
  },
  {
   "cell_type": "code",
   "execution_count": 355,
   "metadata": {},
   "outputs": [],
   "source": [
    "data_equilibre_normal = X_resampled\n",
    "data_equilibre_knn = X_resampled_knn"
   ]
  },
  {
   "cell_type": "markdown",
   "metadata": {},
   "source": [
    " Sélection et Réduction des Caractéristiques"
   ]
  },
  {
   "cell_type": "code",
   "execution_count": 356,
   "metadata": {},
   "outputs": [],
   "source": [
    "from sklearn.preprocessing import OrdinalEncoder\n",
    "import pandas as pd\n",
    "\n",
    "\n",
    "encoder = OrdinalEncoder()\n",
    "\n",
    "data_equilibre_normal['type_de_vente_encoded'] = encoder.fit_transform(data_equilibre_normal[['type_de_vente']])\n"
   ]
  },
  {
   "cell_type": "code",
   "execution_count": 357,
   "metadata": {},
   "outputs": [],
   "source": [
    "data_equilibre_knn['type_de_vente_encoded'] = encoder.fit_transform(data_equilibre_knn[['type_de_vente']])\n"
   ]
  },
  {
   "cell_type": "code",
   "execution_count": 358,
   "metadata": {},
   "outputs": [
    {
     "data": {
      "text/plain": [
       "Index(['new_price', 'salon', 'chamber', 'toilete', 'area', 'location_encoded',\n",
       "       'new_price_standariser', 'area_standariser', 'type_de_vente',\n",
       "       'type_de_vente_encoded'],\n",
       "      dtype='object')"
      ]
     },
     "execution_count": 358,
     "metadata": {},
     "output_type": "execute_result"
    }
   ],
   "source": [
    "data_equilibre_knn.columns"
   ]
  },
  {
   "cell_type": "code",
   "execution_count": null,
   "metadata": {},
   "outputs": [],
   "source": [
    "#etude de correlation data par knn\n",
    "data_equilibre_knn_louer = data_equilibre_knn[data_equilibre_knn['type_de_vente']=='a louer']\n",
    "data_equilibre_knn_vendre = data_equilibre_knn[data_equilibre_knn['type_de_vente']=='a vendre']\n",
    "\n",
    "correlation_knn_louer = data_equilibre_knn_louer[['salon', 'chamber', 'toilete', 'area', 'new_price']].corr()\n",
    "correlation_knn_vendre = data_equilibre_knn_vendre[['salon', 'chamber', 'toilete', 'area', 'new_price']].corr()\n",
    "\n"
   ]
  },
  {
   "cell_type": "code",
   "execution_count": 362,
   "metadata": {},
   "outputs": [
    {
     "data": {
      "text/html": [
       "<div>\n",
       "<style scoped>\n",
       "    .dataframe tbody tr th:only-of-type {\n",
       "        vertical-align: middle;\n",
       "    }\n",
       "\n",
       "    .dataframe tbody tr th {\n",
       "        vertical-align: top;\n",
       "    }\n",
       "\n",
       "    .dataframe thead th {\n",
       "        text-align: right;\n",
       "    }\n",
       "</style>\n",
       "<table border=\"1\" class=\"dataframe\">\n",
       "  <thead>\n",
       "    <tr style=\"text-align: right;\">\n",
       "      <th></th>\n",
       "      <th>salon</th>\n",
       "      <th>chamber</th>\n",
       "      <th>toilete</th>\n",
       "      <th>area</th>\n",
       "      <th>new_price</th>\n",
       "    </tr>\n",
       "  </thead>\n",
       "  <tbody>\n",
       "    <tr>\n",
       "      <th>salon</th>\n",
       "      <td>1.000000</td>\n",
       "      <td>0.245274</td>\n",
       "      <td>0.061541</td>\n",
       "      <td>0.392409</td>\n",
       "      <td>0.042222</td>\n",
       "    </tr>\n",
       "    <tr>\n",
       "      <th>chamber</th>\n",
       "      <td>0.245274</td>\n",
       "      <td>1.000000</td>\n",
       "      <td>0.135586</td>\n",
       "      <td>0.372506</td>\n",
       "      <td>-0.015001</td>\n",
       "    </tr>\n",
       "    <tr>\n",
       "      <th>toilete</th>\n",
       "      <td>0.061541</td>\n",
       "      <td>0.135586</td>\n",
       "      <td>1.000000</td>\n",
       "      <td>0.298202</td>\n",
       "      <td>-0.010748</td>\n",
       "    </tr>\n",
       "    <tr>\n",
       "      <th>area</th>\n",
       "      <td>0.392409</td>\n",
       "      <td>0.372506</td>\n",
       "      <td>0.298202</td>\n",
       "      <td>1.000000</td>\n",
       "      <td>-0.006264</td>\n",
       "    </tr>\n",
       "    <tr>\n",
       "      <th>new_price</th>\n",
       "      <td>0.042222</td>\n",
       "      <td>-0.015001</td>\n",
       "      <td>-0.010748</td>\n",
       "      <td>-0.006264</td>\n",
       "      <td>1.000000</td>\n",
       "    </tr>\n",
       "  </tbody>\n",
       "</table>\n",
       "</div>"
      ],
      "text/plain": [
       "              salon   chamber   toilete      area  new_price\n",
       "salon      1.000000  0.245274  0.061541  0.392409   0.042222\n",
       "chamber    0.245274  1.000000  0.135586  0.372506  -0.015001\n",
       "toilete    0.061541  0.135586  1.000000  0.298202  -0.010748\n",
       "area       0.392409  0.372506  0.298202  1.000000  -0.006264\n",
       "new_price  0.042222 -0.015001 -0.010748 -0.006264   1.000000"
      ]
     },
     "execution_count": 362,
     "metadata": {},
     "output_type": "execute_result"
    }
   ],
   "source": [
    "correlation_knn_louer"
   ]
  },
  {
   "cell_type": "code",
   "execution_count": 364,
   "metadata": {},
   "outputs": [
    {
     "data": {
      "text/html": [
       "<div>\n",
       "<style scoped>\n",
       "    .dataframe tbody tr th:only-of-type {\n",
       "        vertical-align: middle;\n",
       "    }\n",
       "\n",
       "    .dataframe tbody tr th {\n",
       "        vertical-align: top;\n",
       "    }\n",
       "\n",
       "    .dataframe thead th {\n",
       "        text-align: right;\n",
       "    }\n",
       "</style>\n",
       "<table border=\"1\" class=\"dataframe\">\n",
       "  <thead>\n",
       "    <tr style=\"text-align: right;\">\n",
       "      <th></th>\n",
       "      <th>salon</th>\n",
       "      <th>chamber</th>\n",
       "      <th>toilete</th>\n",
       "      <th>area</th>\n",
       "      <th>new_price</th>\n",
       "    </tr>\n",
       "  </thead>\n",
       "  <tbody>\n",
       "    <tr>\n",
       "      <th>salon</th>\n",
       "      <td>1.000000</td>\n",
       "      <td>0.143762</td>\n",
       "      <td>0.069304</td>\n",
       "      <td>0.230232</td>\n",
       "      <td>-0.035385</td>\n",
       "    </tr>\n",
       "    <tr>\n",
       "      <th>chamber</th>\n",
       "      <td>0.143762</td>\n",
       "      <td>1.000000</td>\n",
       "      <td>0.233850</td>\n",
       "      <td>0.382015</td>\n",
       "      <td>-0.012781</td>\n",
       "    </tr>\n",
       "    <tr>\n",
       "      <th>toilete</th>\n",
       "      <td>0.069304</td>\n",
       "      <td>0.233850</td>\n",
       "      <td>1.000000</td>\n",
       "      <td>0.437043</td>\n",
       "      <td>0.048549</td>\n",
       "    </tr>\n",
       "    <tr>\n",
       "      <th>area</th>\n",
       "      <td>0.230232</td>\n",
       "      <td>0.382015</td>\n",
       "      <td>0.437043</td>\n",
       "      <td>1.000000</td>\n",
       "      <td>-0.027045</td>\n",
       "    </tr>\n",
       "    <tr>\n",
       "      <th>new_price</th>\n",
       "      <td>-0.035385</td>\n",
       "      <td>-0.012781</td>\n",
       "      <td>0.048549</td>\n",
       "      <td>-0.027045</td>\n",
       "      <td>1.000000</td>\n",
       "    </tr>\n",
       "  </tbody>\n",
       "</table>\n",
       "</div>"
      ],
      "text/plain": [
       "              salon   chamber   toilete      area  new_price\n",
       "salon      1.000000  0.143762  0.069304  0.230232  -0.035385\n",
       "chamber    0.143762  1.000000  0.233850  0.382015  -0.012781\n",
       "toilete    0.069304  0.233850  1.000000  0.437043   0.048549\n",
       "area       0.230232  0.382015  0.437043  1.000000  -0.027045\n",
       "new_price -0.035385 -0.012781  0.048549 -0.027045   1.000000"
      ]
     },
     "execution_count": 364,
     "metadata": {},
     "output_type": "execute_result"
    }
   ],
   "source": [
    "correlation_knn_vendre"
   ]
  },
  {
   "cell_type": "code",
   "execution_count": 365,
   "metadata": {},
   "outputs": [],
   "source": [
    "data_equilibre_mode_louer = data_equilibre_normal[data_equilibre_knn['type_de_vente']=='a louer']\n",
    "data_equilibre_mode_vendre = data_equilibre_normal[data_equilibre_knn['type_de_vente']=='a vendre']\n",
    "\n",
    "correlation_mode_louer = data_equilibre_mode_louer[['salon', 'chamber', 'toilete', 'area', 'new_price']].corr()\n",
    "correlation_mode_vendre = data_equilibre_mode_vendre[['salon', 'chamber', 'toilete', 'area', 'new_price']].corr()\n",
    "\n"
   ]
  },
  {
   "cell_type": "code",
   "execution_count": 366,
   "metadata": {},
   "outputs": [
    {
     "data": {
      "text/html": [
       "<div>\n",
       "<style scoped>\n",
       "    .dataframe tbody tr th:only-of-type {\n",
       "        vertical-align: middle;\n",
       "    }\n",
       "\n",
       "    .dataframe tbody tr th {\n",
       "        vertical-align: top;\n",
       "    }\n",
       "\n",
       "    .dataframe thead th {\n",
       "        text-align: right;\n",
       "    }\n",
       "</style>\n",
       "<table border=\"1\" class=\"dataframe\">\n",
       "  <thead>\n",
       "    <tr style=\"text-align: right;\">\n",
       "      <th></th>\n",
       "      <th>salon</th>\n",
       "      <th>chamber</th>\n",
       "      <th>toilete</th>\n",
       "      <th>area</th>\n",
       "      <th>new_price</th>\n",
       "    </tr>\n",
       "  </thead>\n",
       "  <tbody>\n",
       "    <tr>\n",
       "      <th>salon</th>\n",
       "      <td>1.000000</td>\n",
       "      <td>0.245274</td>\n",
       "      <td>0.061541</td>\n",
       "      <td>0.392409</td>\n",
       "      <td>0.042222</td>\n",
       "    </tr>\n",
       "    <tr>\n",
       "      <th>chamber</th>\n",
       "      <td>0.245274</td>\n",
       "      <td>1.000000</td>\n",
       "      <td>0.135586</td>\n",
       "      <td>0.372506</td>\n",
       "      <td>-0.015001</td>\n",
       "    </tr>\n",
       "    <tr>\n",
       "      <th>toilete</th>\n",
       "      <td>0.061541</td>\n",
       "      <td>0.135586</td>\n",
       "      <td>1.000000</td>\n",
       "      <td>0.298202</td>\n",
       "      <td>-0.010748</td>\n",
       "    </tr>\n",
       "    <tr>\n",
       "      <th>area</th>\n",
       "      <td>0.392409</td>\n",
       "      <td>0.372506</td>\n",
       "      <td>0.298202</td>\n",
       "      <td>1.000000</td>\n",
       "      <td>-0.006264</td>\n",
       "    </tr>\n",
       "    <tr>\n",
       "      <th>new_price</th>\n",
       "      <td>0.042222</td>\n",
       "      <td>-0.015001</td>\n",
       "      <td>-0.010748</td>\n",
       "      <td>-0.006264</td>\n",
       "      <td>1.000000</td>\n",
       "    </tr>\n",
       "  </tbody>\n",
       "</table>\n",
       "</div>"
      ],
      "text/plain": [
       "              salon   chamber   toilete      area  new_price\n",
       "salon      1.000000  0.245274  0.061541  0.392409   0.042222\n",
       "chamber    0.245274  1.000000  0.135586  0.372506  -0.015001\n",
       "toilete    0.061541  0.135586  1.000000  0.298202  -0.010748\n",
       "area       0.392409  0.372506  0.298202  1.000000  -0.006264\n",
       "new_price  0.042222 -0.015001 -0.010748 -0.006264   1.000000"
      ]
     },
     "execution_count": 366,
     "metadata": {},
     "output_type": "execute_result"
    }
   ],
   "source": [
    "correlation_mode_louer"
   ]
  },
  {
   "cell_type": "code",
   "execution_count": 367,
   "metadata": {},
   "outputs": [
    {
     "data": {
      "text/html": [
       "<div>\n",
       "<style scoped>\n",
       "    .dataframe tbody tr th:only-of-type {\n",
       "        vertical-align: middle;\n",
       "    }\n",
       "\n",
       "    .dataframe tbody tr th {\n",
       "        vertical-align: top;\n",
       "    }\n",
       "\n",
       "    .dataframe thead th {\n",
       "        text-align: right;\n",
       "    }\n",
       "</style>\n",
       "<table border=\"1\" class=\"dataframe\">\n",
       "  <thead>\n",
       "    <tr style=\"text-align: right;\">\n",
       "      <th></th>\n",
       "      <th>salon</th>\n",
       "      <th>chamber</th>\n",
       "      <th>toilete</th>\n",
       "      <th>area</th>\n",
       "      <th>new_price</th>\n",
       "    </tr>\n",
       "  </thead>\n",
       "  <tbody>\n",
       "    <tr>\n",
       "      <th>salon</th>\n",
       "      <td>1.000000</td>\n",
       "      <td>0.147102</td>\n",
       "      <td>0.112994</td>\n",
       "      <td>0.217266</td>\n",
       "      <td>-0.032755</td>\n",
       "    </tr>\n",
       "    <tr>\n",
       "      <th>chamber</th>\n",
       "      <td>0.147102</td>\n",
       "      <td>1.000000</td>\n",
       "      <td>0.249670</td>\n",
       "      <td>0.365920</td>\n",
       "      <td>-0.007098</td>\n",
       "    </tr>\n",
       "    <tr>\n",
       "      <th>toilete</th>\n",
       "      <td>0.112994</td>\n",
       "      <td>0.249670</td>\n",
       "      <td>1.000000</td>\n",
       "      <td>0.408578</td>\n",
       "      <td>0.056113</td>\n",
       "    </tr>\n",
       "    <tr>\n",
       "      <th>area</th>\n",
       "      <td>0.217266</td>\n",
       "      <td>0.365920</td>\n",
       "      <td>0.408578</td>\n",
       "      <td>1.000000</td>\n",
       "      <td>-0.023401</td>\n",
       "    </tr>\n",
       "    <tr>\n",
       "      <th>new_price</th>\n",
       "      <td>-0.032755</td>\n",
       "      <td>-0.007098</td>\n",
       "      <td>0.056113</td>\n",
       "      <td>-0.023401</td>\n",
       "      <td>1.000000</td>\n",
       "    </tr>\n",
       "  </tbody>\n",
       "</table>\n",
       "</div>"
      ],
      "text/plain": [
       "              salon   chamber   toilete      area  new_price\n",
       "salon      1.000000  0.147102  0.112994  0.217266  -0.032755\n",
       "chamber    0.147102  1.000000  0.249670  0.365920  -0.007098\n",
       "toilete    0.112994  0.249670  1.000000  0.408578   0.056113\n",
       "area       0.217266  0.365920  0.408578  1.000000  -0.023401\n",
       "new_price -0.032755 -0.007098  0.056113 -0.023401   1.000000"
      ]
     },
     "execution_count": 367,
     "metadata": {},
     "output_type": "execute_result"
    }
   ],
   "source": [
    "correlation_mode_vendre"
   ]
  },
  {
   "cell_type": "code",
   "execution_count": 368,
   "metadata": {},
   "outputs": [
    {
     "data": {
      "text/html": [
       "<div>\n",
       "<style scoped>\n",
       "    .dataframe tbody tr th:only-of-type {\n",
       "        vertical-align: middle;\n",
       "    }\n",
       "\n",
       "    .dataframe tbody tr th {\n",
       "        vertical-align: top;\n",
       "    }\n",
       "\n",
       "    .dataframe thead th {\n",
       "        text-align: right;\n",
       "    }\n",
       "</style>\n",
       "<table border=\"1\" class=\"dataframe\">\n",
       "  <thead>\n",
       "    <tr style=\"text-align: right;\">\n",
       "      <th></th>\n",
       "      <th>new_price</th>\n",
       "      <th>salon</th>\n",
       "      <th>chamber</th>\n",
       "      <th>toilete</th>\n",
       "      <th>area</th>\n",
       "      <th>location_encoded</th>\n",
       "      <th>new_price_standariser</th>\n",
       "      <th>area_standariser</th>\n",
       "      <th>type_de_vente</th>\n",
       "      <th>type_de_vente_encoded</th>\n",
       "    </tr>\n",
       "  </thead>\n",
       "  <tbody>\n",
       "    <tr>\n",
       "      <th>0</th>\n",
       "      <td>701720.0</td>\n",
       "      <td>1</td>\n",
       "      <td>2</td>\n",
       "      <td>2</td>\n",
       "      <td>97.308802</td>\n",
       "      <td>15</td>\n",
       "      <td>0.138358</td>\n",
       "      <td>-0.001118</td>\n",
       "      <td>a vendre</td>\n",
       "      <td>1.0</td>\n",
       "    </tr>\n",
       "    <tr>\n",
       "      <th>1</th>\n",
       "      <td>580000.0</td>\n",
       "      <td>1</td>\n",
       "      <td>2</td>\n",
       "      <td>1</td>\n",
       "      <td>50.000000</td>\n",
       "      <td>11</td>\n",
       "      <td>0.046069</td>\n",
       "      <td>-1.444905</td>\n",
       "      <td>a vendre</td>\n",
       "      <td>1.0</td>\n",
       "    </tr>\n",
       "    <tr>\n",
       "      <th>2</th>\n",
       "      <td>760000.0</td>\n",
       "      <td>1</td>\n",
       "      <td>2</td>\n",
       "      <td>2</td>\n",
       "      <td>150.000000</td>\n",
       "      <td>11</td>\n",
       "      <td>0.182546</td>\n",
       "      <td>1.606930</td>\n",
       "      <td>a vendre</td>\n",
       "      <td>1.0</td>\n",
       "    </tr>\n",
       "    <tr>\n",
       "      <th>3</th>\n",
       "      <td>1560000.0</td>\n",
       "      <td>1</td>\n",
       "      <td>2</td>\n",
       "      <td>1</td>\n",
       "      <td>56.000000</td>\n",
       "      <td>11</td>\n",
       "      <td>0.789111</td>\n",
       "      <td>-1.261795</td>\n",
       "      <td>a vendre</td>\n",
       "      <td>1.0</td>\n",
       "    </tr>\n",
       "    <tr>\n",
       "      <th>4</th>\n",
       "      <td>1100000.0</td>\n",
       "      <td>1</td>\n",
       "      <td>3</td>\n",
       "      <td>2</td>\n",
       "      <td>84.000000</td>\n",
       "      <td>11</td>\n",
       "      <td>0.440336</td>\n",
       "      <td>-0.407281</td>\n",
       "      <td>a vendre</td>\n",
       "      <td>1.0</td>\n",
       "    </tr>\n",
       "  </tbody>\n",
       "</table>\n",
       "</div>"
      ],
      "text/plain": [
       "   new_price  salon  chamber  toilete        area  location_encoded  \\\n",
       "0   701720.0      1        2        2   97.308802                15   \n",
       "1   580000.0      1        2        1   50.000000                11   \n",
       "2   760000.0      1        2        2  150.000000                11   \n",
       "3  1560000.0      1        2        1   56.000000                11   \n",
       "4  1100000.0      1        3        2   84.000000                11   \n",
       "\n",
       "   new_price_standariser  area_standariser type_de_vente  \\\n",
       "0               0.138358         -0.001118      a vendre   \n",
       "1               0.046069         -1.444905      a vendre   \n",
       "2               0.182546          1.606930      a vendre   \n",
       "3               0.789111         -1.261795      a vendre   \n",
       "4               0.440336         -0.407281      a vendre   \n",
       "\n",
       "   type_de_vente_encoded  \n",
       "0                    1.0  \n",
       "1                    1.0  \n",
       "2                    1.0  \n",
       "3                    1.0  \n",
       "4                    1.0  "
      ]
     },
     "execution_count": 368,
     "metadata": {},
     "output_type": "execute_result"
    }
   ],
   "source": [
    "data_equilibre_normal.head()"
   ]
  },
  {
   "cell_type": "code",
   "execution_count": null,
   "metadata": {},
   "outputs": [],
   "source": []
  }
 ],
 "metadata": {
  "kernelspec": {
   "display_name": ".venv",
   "language": "python",
   "name": "python3"
  },
  "language_info": {
   "codemirror_mode": {
    "name": "ipython",
    "version": 3
   },
   "file_extension": ".py",
   "mimetype": "text/x-python",
   "name": "python",
   "nbconvert_exporter": "python",
   "pygments_lexer": "ipython3",
   "version": "3.12.3"
  }
 },
 "nbformat": 4,
 "nbformat_minor": 2
}
